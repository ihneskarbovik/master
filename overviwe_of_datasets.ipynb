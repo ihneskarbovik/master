{
 "cells": [
  {
   "cell_type": "markdown",
   "metadata": {},
   "source": [
    "# Oversikt av datasettene"
   ]
  },
  {
   "cell_type": "code",
   "execution_count": 1,
   "metadata": {},
   "outputs": [],
   "source": [
    "import numpy as np\n",
    "import pandas as pd\n",
    "import matplotlib.pyplot as plt\n",
    "import seaborn as sns"
   ]
  },
  {
   "cell_type": "code",
   "execution_count": 2,
   "metadata": {},
   "outputs": [],
   "source": [
    "rsrp_colors = ['#384959', '#6A89A7', '#88BDF2', '#BDDDFC']\n",
    "rsrq_colors = ['#614419', '#B37E2E', '#DB9A39', '#FFB343']\n",
    "sinr_colors = ['#135E4B', '#4CB572', '#A1D8B5', '#CCDCDB']\n",
    "mode_colors = ['#872323', '#C93636', '#E26666', '#F4B6B6']"
   ]
  },
  {
   "cell_type": "code",
   "execution_count": 4,
   "metadata": {},
   "outputs": [],
   "source": [
    "'''\n",
    "    Reading the dataset and returning two pandas DataFrames:\n",
    "        The first DataFrame containing every datapoint belonging to the given campaign (if any)\n",
    "        The second DataFrame containing only one column - the mode (4G or 5G)\n",
    "'''\n",
    "def read_dataset(filename, campaigns=None, features=None):\n",
    "    df = pd.read_csv(filename)\n",
    "    df = df.loc[:, ~df.columns.str.match('Unnamed')]\n",
    "    df = df.loc[:, ~df.columns.str.match('Timestamp')]\n",
    "    df = df.replace('DC', 1)\n",
    "    df = df.replace('LTE', 0)\n",
    "    df = df[df['campaign'].str.contains('Driving') | df['campaign'].str.contains('Walking')]\n",
    "\n",
    "    if campaigns != None:\n",
    "        df = df[df['campaign'].isin(campaigns)]\n",
    "\n",
    "    if features == None:\n",
    "        features = ['RSRP', 'SINR', 'RSRQ', 'SSS_RSRP', 'SSS_SINR', 'SSS_RSRQ', 'campaign']\n",
    "\n",
    "    features.append('Mode')\n",
    "    features.append('Latitude')\n",
    "    features.append('Longitude')\n",
    "    \n",
    "    return df[features]"
   ]
  },
  {
   "cell_type": "code",
   "execution_count": 12,
   "metadata": {},
   "outputs": [
    {
     "name": "stdout",
     "output_type": "stream",
     "text": [
      "OP1 datapoint: 72540\n",
      "5G in OP1 ≈ 33.0\n",
      "4G in OP1 ≈ 67.0\n",
      "\n",
      "OP2 datapoint: 100099\n",
      "5G in OP2 ≈ 29.5\n",
      "4G in OP2 ≈ 70.5\n"
     ]
    }
   ],
   "source": [
    "op1_df = read_dataset('datasets/Op1_merged.csv')\n",
    "op2_df = read_dataset('datasets/Op2_merged.csv')\n",
    "\n",
    "op1_mode = op1_df['Mode']\n",
    "op2_mode = op2_df['Mode']\n",
    "\n",
    "print(f'OP1 datapoint: {len(op1_mode)}\\n5G in OP1 ≈ {np.sum(op1_mode) / len(op1_mode) * 100:.1f}\\n4G in OP1 ≈ {(1 - np.sum(op1_mode) / len(op1_mode)) * 100:.1f}\\n')\n",
    "print(f'OP2 datapoint: {len(op2_mode)}\\n5G in OP2 ≈ {np.sum(op2_mode) / len(op2_mode) * 100:.1f}\\n4G in OP2 ≈ {(1 - np.sum(op2_mode) / len(op2_mode)) * 100:.1f}')"
   ]
  }
 ],
 "metadata": {
  "kernelspec": {
   "display_name": "Python 3",
   "language": "python",
   "name": "python3"
  },
  "language_info": {
   "codemirror_mode": {
    "name": "ipython",
    "version": 3
   },
   "file_extension": ".py",
   "mimetype": "text/x-python",
   "name": "python",
   "nbconvert_exporter": "python",
   "pygments_lexer": "ipython3",
   "version": "3.9.6"
  }
 },
 "nbformat": 4,
 "nbformat_minor": 2
}
