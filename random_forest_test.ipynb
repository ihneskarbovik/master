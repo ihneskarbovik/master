{
 "cells": [
  {
   "cell_type": "markdown",
   "metadata": {},
   "source": [
    "# Random Forest classifier test"
   ]
  },
  {
   "cell_type": "code",
   "execution_count": 8,
   "metadata": {},
   "outputs": [],
   "source": [
    "import numpy as np\n",
    "import pandas as pd\n",
    "from sklearn.ensemble import RandomForestClassifier\n",
    "from sklearn.metrics import accuracy_score, precision_score, recall_score\n",
    "from sklearn.model_selection import train_test_split\n",
    "import matplotlib.pyplot as plt"
   ]
  },
  {
   "cell_type": "code",
   "execution_count": 9,
   "metadata": {},
   "outputs": [],
   "source": [
    "def read_dataset(filename, campaign=None, features=None):\n",
    "    df = pd.read_csv(filename)\n",
    "    df = df.loc[:, ~df.columns.str.match('Unnamed')]\n",
    "    df = df.loc[:, ~df.columns.str.match('Timestamp')]\n",
    "    df = df.replace('DC', 1)\n",
    "    df = df.replace('LTE', 0)\n",
    "    df = df[df['campaign'].str.contains('Driving')]\n",
    "\n",
    "    if campaign != None:\n",
    "        df = df[df['campaign'] == campaign]\n",
    "    \n",
    "    if features == None:\n",
    "        features = df.columns.drop('Mode')\n",
    "        \n",
    "    df, mode = df[features], df['Mode']\n",
    "\n",
    "    return df, mode"
   ]
  },
  {
   "cell_type": "code",
   "execution_count": 10,
   "metadata": {},
   "outputs": [],
   "source": [
    "results = {}\n",
    "\n",
    "feature_selection = [['SINR'], ['RSRP'], ['RSRQ'], \n",
    "                     ['SINR', 'RSRQ'], ['SINR', 'RSRP'], ['RSRP', 'RSRQ'], ['SINR', 'RSRP', 'RSRQ'],\n",
    "                     ['SINR', 'SSS_SINR'], ['RSRP', 'SSS_RSRP'], ['RSRQ', 'SSS_RSRQ'], \n",
    "                     ['SINR', 'RSRP', 'RSRQ', 'SSS_RSRP', 'SSS_SINR', 'SSS_RSRQ']]\n",
    "\n",
    "for features in feature_selection:\n",
    "    used_features = ', '.join(features)\n",
    "    feats = features.copy()\n",
    "    X, y = read_dataset('datasets/Op1_merged.csv', features=features)\n",
    "    X_train, X_test, y_train, y_test = train_test_split(X, y, test_size=0.3)\n",
    "    rf = RandomForestClassifier()\n",
    "    rf.fit(X_train, y_train)\n",
    "    y_pred = rf.predict(X_test)\n",
    "    accuracy = accuracy_score(y_test, y_pred)\n",
    "    precision = precision_score(y_test, y_pred)\n",
    "    recall = recall_score(y_test, y_pred)\n",
    "    results[used_features] = {'Accuracy': accuracy,\n",
    "                              'Precision': precision,\n",
    "                              'Recall': recall,\n",
    "                              'y_test' : y_test,\n",
    "                              'y_pred' : y_pred,\n",
    "                              'model': rf}"
   ]
  },
  {
   "cell_type": "code",
   "execution_count": 11,
   "metadata": {},
   "outputs": [
    {
     "data": {
      "text/html": [
       "<div>\n",
       "<style scoped>\n",
       "    .dataframe tbody tr th:only-of-type {\n",
       "        vertical-align: middle;\n",
       "    }\n",
       "\n",
       "    .dataframe tbody tr th {\n",
       "        vertical-align: top;\n",
       "    }\n",
       "\n",
       "    .dataframe thead th {\n",
       "        text-align: right;\n",
       "    }\n",
       "</style>\n",
       "<table border=\"1\" class=\"dataframe\">\n",
       "  <thead>\n",
       "    <tr style=\"text-align: right;\">\n",
       "      <th></th>\n",
       "      <th>Combination</th>\n",
       "      <th>Accuracy</th>\n",
       "      <th>Precision</th>\n",
       "      <th>Recall</th>\n",
       "    </tr>\n",
       "  </thead>\n",
       "  <tbody>\n",
       "    <tr>\n",
       "      <th>0</th>\n",
       "      <td>SINR</td>\n",
       "      <td>0.892458</td>\n",
       "      <td>0.846468</td>\n",
       "      <td>0.860107</td>\n",
       "    </tr>\n",
       "    <tr>\n",
       "      <th>1</th>\n",
       "      <td>RSRP</td>\n",
       "      <td>0.905590</td>\n",
       "      <td>0.862150</td>\n",
       "      <td>0.886167</td>\n",
       "    </tr>\n",
       "    <tr>\n",
       "      <th>2</th>\n",
       "      <td>RSRQ</td>\n",
       "      <td>0.801331</td>\n",
       "      <td>0.763192</td>\n",
       "      <td>0.684967</td>\n",
       "    </tr>\n",
       "    <tr>\n",
       "      <th>3</th>\n",
       "      <td>SINR, RSRQ</td>\n",
       "      <td>0.970630</td>\n",
       "      <td>0.971769</td>\n",
       "      <td>0.948907</td>\n",
       "    </tr>\n",
       "    <tr>\n",
       "      <th>4</th>\n",
       "      <td>SINR, RSRP</td>\n",
       "      <td>0.971340</td>\n",
       "      <td>0.974784</td>\n",
       "      <td>0.946926</td>\n",
       "    </tr>\n",
       "    <tr>\n",
       "      <th>5</th>\n",
       "      <td>RSRP, RSRQ</td>\n",
       "      <td>0.971961</td>\n",
       "      <td>0.974734</td>\n",
       "      <td>0.948421</td>\n",
       "    </tr>\n",
       "    <tr>\n",
       "      <th>6</th>\n",
       "      <td>SINR, RSRP, RSRQ</td>\n",
       "      <td>0.974445</td>\n",
       "      <td>0.969973</td>\n",
       "      <td>0.959581</td>\n",
       "    </tr>\n",
       "    <tr>\n",
       "      <th>7</th>\n",
       "      <td>SINR, SSS_SINR</td>\n",
       "      <td>0.964774</td>\n",
       "      <td>0.961988</td>\n",
       "      <td>0.942468</td>\n",
       "    </tr>\n",
       "    <tr>\n",
       "      <th>8</th>\n",
       "      <td>RSRP, SSS_RSRP</td>\n",
       "      <td>0.972316</td>\n",
       "      <td>0.965760</td>\n",
       "      <td>0.958775</td>\n",
       "    </tr>\n",
       "    <tr>\n",
       "      <th>9</th>\n",
       "      <td>RSRQ, SSS_RSRQ</td>\n",
       "      <td>0.967436</td>\n",
       "      <td>0.959693</td>\n",
       "      <td>0.952608</td>\n",
       "    </tr>\n",
       "    <tr>\n",
       "      <th>10</th>\n",
       "      <td>SINR, RSRP, RSRQ, SSS_RSRP, SSS_SINR, SSS_RSRQ</td>\n",
       "      <td>0.987311</td>\n",
       "      <td>0.981398</td>\n",
       "      <td>0.984450</td>\n",
       "    </tr>\n",
       "  </tbody>\n",
       "</table>\n",
       "</div>"
      ],
      "text/plain": [
       "                                       Combination  Accuracy  Precision  \\\n",
       "0                                             SINR  0.892458   0.846468   \n",
       "1                                             RSRP  0.905590   0.862150   \n",
       "2                                             RSRQ  0.801331   0.763192   \n",
       "3                                       SINR, RSRQ  0.970630   0.971769   \n",
       "4                                       SINR, RSRP  0.971340   0.974784   \n",
       "5                                       RSRP, RSRQ  0.971961   0.974734   \n",
       "6                                 SINR, RSRP, RSRQ  0.974445   0.969973   \n",
       "7                                   SINR, SSS_SINR  0.964774   0.961988   \n",
       "8                                   RSRP, SSS_RSRP  0.972316   0.965760   \n",
       "9                                   RSRQ, SSS_RSRQ  0.967436   0.959693   \n",
       "10  SINR, RSRP, RSRQ, SSS_RSRP, SSS_SINR, SSS_RSRQ  0.987311   0.981398   \n",
       "\n",
       "      Recall  \n",
       "0   0.860107  \n",
       "1   0.886167  \n",
       "2   0.684967  \n",
       "3   0.948907  \n",
       "4   0.946926  \n",
       "5   0.948421  \n",
       "6   0.959581  \n",
       "7   0.942468  \n",
       "8   0.958775  \n",
       "9   0.952608  \n",
       "10  0.984450  "
      ]
     },
     "execution_count": 11,
     "metadata": {},
     "output_type": "execute_result"
    }
   ],
   "source": [
    "df_results = pd.DataFrame.from_dict(results, orient='index')\n",
    "\n",
    "df_results.reset_index(inplace=True)\n",
    "df_results.rename(columns={'index': 'Combination'}, inplace=True)\n",
    "df_results = df_results.drop(['y_pred', 'y_test', 'model'], axis=1)\n",
    "df_results"
   ]
  },
  {
   "cell_type": "code",
   "execution_count": 12,
   "metadata": {},
   "outputs": [
    {
     "data": {
      "text/html": [
       "<div>\n",
       "<style scoped>\n",
       "    .dataframe tbody tr th:only-of-type {\n",
       "        vertical-align: middle;\n",
       "    }\n",
       "\n",
       "    .dataframe tbody tr th {\n",
       "        vertical-align: top;\n",
       "    }\n",
       "\n",
       "    .dataframe thead th {\n",
       "        text-align: right;\n",
       "    }\n",
       "</style>\n",
       "<table border=\"1\" class=\"dataframe\">\n",
       "  <thead>\n",
       "    <tr style=\"text-align: right;\">\n",
       "      <th></th>\n",
       "      <th>Combination</th>\n",
       "      <th>Accuracy</th>\n",
       "      <th>Precision</th>\n",
       "      <th>Recall</th>\n",
       "    </tr>\n",
       "  </thead>\n",
       "  <tbody>\n",
       "    <tr>\n",
       "      <th>3</th>\n",
       "      <td>SINR, RSRQ</td>\n",
       "      <td>0.970630</td>\n",
       "      <td>0.971769</td>\n",
       "      <td>0.948907</td>\n",
       "    </tr>\n",
       "    <tr>\n",
       "      <th>4</th>\n",
       "      <td>SINR, RSRP</td>\n",
       "      <td>0.971340</td>\n",
       "      <td>0.974784</td>\n",
       "      <td>0.946926</td>\n",
       "    </tr>\n",
       "    <tr>\n",
       "      <th>5</th>\n",
       "      <td>RSRP, RSRQ</td>\n",
       "      <td>0.971961</td>\n",
       "      <td>0.974734</td>\n",
       "      <td>0.948421</td>\n",
       "    </tr>\n",
       "    <tr>\n",
       "      <th>6</th>\n",
       "      <td>SINR, RSRP, RSRQ</td>\n",
       "      <td>0.974445</td>\n",
       "      <td>0.969973</td>\n",
       "      <td>0.959581</td>\n",
       "    </tr>\n",
       "    <tr>\n",
       "      <th>7</th>\n",
       "      <td>SINR, SSS_SINR</td>\n",
       "      <td>0.964774</td>\n",
       "      <td>0.961988</td>\n",
       "      <td>0.942468</td>\n",
       "    </tr>\n",
       "    <tr>\n",
       "      <th>8</th>\n",
       "      <td>RSRP, SSS_RSRP</td>\n",
       "      <td>0.972316</td>\n",
       "      <td>0.965760</td>\n",
       "      <td>0.958775</td>\n",
       "    </tr>\n",
       "    <tr>\n",
       "      <th>9</th>\n",
       "      <td>RSRQ, SSS_RSRQ</td>\n",
       "      <td>0.967436</td>\n",
       "      <td>0.959693</td>\n",
       "      <td>0.952608</td>\n",
       "    </tr>\n",
       "    <tr>\n",
       "      <th>10</th>\n",
       "      <td>SINR, RSRP, RSRQ, SSS_RSRP, SSS_SINR, SSS_RSRQ</td>\n",
       "      <td>0.987311</td>\n",
       "      <td>0.981398</td>\n",
       "      <td>0.984450</td>\n",
       "    </tr>\n",
       "  </tbody>\n",
       "</table>\n",
       "</div>"
      ],
      "text/plain": [
       "                                       Combination  Accuracy  Precision  \\\n",
       "3                                       SINR, RSRQ  0.970630   0.971769   \n",
       "4                                       SINR, RSRP  0.971340   0.974784   \n",
       "5                                       RSRP, RSRQ  0.971961   0.974734   \n",
       "6                                 SINR, RSRP, RSRQ  0.974445   0.969973   \n",
       "7                                   SINR, SSS_SINR  0.964774   0.961988   \n",
       "8                                   RSRP, SSS_RSRP  0.972316   0.965760   \n",
       "9                                   RSRQ, SSS_RSRQ  0.967436   0.959693   \n",
       "10  SINR, RSRP, RSRQ, SSS_RSRP, SSS_SINR, SSS_RSRQ  0.987311   0.981398   \n",
       "\n",
       "      Recall  \n",
       "3   0.948907  \n",
       "4   0.946926  \n",
       "5   0.948421  \n",
       "6   0.959581  \n",
       "7   0.942468  \n",
       "8   0.958775  \n",
       "9   0.952608  \n",
       "10  0.984450  "
      ]
     },
     "execution_count": 12,
     "metadata": {},
     "output_type": "execute_result"
    }
   ],
   "source": [
    "df_results = df_results[df_results['Accuracy'] > 0.95]\n",
    "df_results"
   ]
  },
  {
   "cell_type": "code",
   "execution_count": 13,
   "metadata": {},
   "outputs": [
    {
     "name": "stdout",
     "output_type": "stream",
     "text": [
      "-359\n"
     ]
    },
    {
     "data": {
      "image/png": "[encoded data removed]",
      "text/plain": [
       "<Figure size 1000x250 with 1 Axes>"
      ]
     },
     "metadata": {},
     "output_type": "display_data"
    }
   ],
   "source": [
    "selected_combination = 'RSRP, RSRQ'\n",
    "combination = results[selected_combination]\n",
    "campaign='Interactivity_gaming_4G5G_TIM_Driving_Palasport_to_Via_Appia_End_No_Flight_Mode'\n",
    "df, mode = read_dataset('datasets/Op1_merged.csv', campaign=campaign, features=['RSRP', 'RSRQ'])\n",
    "y_pred = combination['model'].predict(df)\n",
    "print(np.sum(np.array(y_pred) - np.array(mode)))\n",
    "\n",
    "f = plt.figure(figsize=(10, 2.5))\n",
    "plt.scatter([i for i in range(len(mode))], mode, label='y_test', linewidths=3)\n",
    "plt.scatter([i for i in range(len(y_pred))],y_pred, label='y_pred', linewidths=0.001)\n",
    "plt.title(selected_combination)\n",
    "plt.yticks([0, 1], ['4G', '5G'])\n",
    "plt.legend()\n",
    "plt.show()"
   ]
  },
  {
   "cell_type": "code",
   "execution_count": 14,
   "metadata": {},
   "outputs": [
    {
     "name": "stdout",
     "output_type": "stream",
     "text": [
      "-59\n"
     ]
    },
    {
     "data": {
      "image/png": "[encoded data removed]",
      "text/plain": [
       "<Figure size 1000x300 with 1 Axes>"
      ]
     },
     "metadata": {},
     "output_type": "display_data"
    }
   ],
   "source": [
    "selected_combination = 'RSRP, SSS_RSRP'\n",
    "combination = results[selected_combination]\n",
    "campaign='Interactivity_gaming_4G5G_TIM_Driving_Palasport_to_Via_Appia_End_No_Flight_Mode'\n",
    "df, mode = read_dataset('datasets/Op1_merged.csv', campaign=campaign, features=['RSRP', 'SSS_RSRP'])\n",
    "y_pred = combination['model'].predict(df)\n",
    "print(np.sum(np.array(y_pred) - np.array(mode)))\n",
    "\n",
    "f = plt.figure(figsize=(10, 3))\n",
    "plt.scatter([i for i in range(len(mode))], mode, label='y_test', linewidths=3)\n",
    "plt.scatter([i for i in range(len(y_pred))],y_pred, label='y_pred', linewidths=0.001)\n",
    "plt.title(selected_combination)\n",
    "plt.yticks([0, 1], ['4G', '5G'])\n",
    "plt.legend()\n",
    "plt.show()"
   ]
  },
  {
   "cell_type": "code",
   "execution_count": 15,
   "metadata": {},
   "outputs": [
    {
     "name": "stdout",
     "output_type": "stream",
     "text": [
      "55\n"
     ]
    },
    {
     "data": {
      "image/png": "[encoded data removed]",
      "text/plain": [
       "<Figure size 1000x300 with 1 Axes>"
      ]
     },
     "metadata": {},
     "output_type": "display_data"
    }
   ],
   "source": [
    "selected_combination = 'SINR, RSRP, RSRQ, SSS_RSRP, SSS_SINR, SSS_RSRQ'\n",
    "combination = results[selected_combination]\n",
    "campaign='Interactivity_gaming_4G5G_TIM_Driving_Palasport_to_Via_Appia_End_No_Flight_Mode'\n",
    "df, mode = read_dataset('datasets/Op1_merged.csv', campaign=campaign, features=['SINR', 'RSRP', 'RSRQ', 'SSS_RSRP', 'SSS_SINR', 'SSS_RSRQ'])\n",
    "y_pred = combination['model'].predict(df)\n",
    "print(np.sum(np.array(y_pred) - np.array(mode)))\n",
    "\n",
    "f = plt.figure(figsize=(10, 3))\n",
    "plt.scatter([i for i in range(len(mode))], mode, label='y_test', linewidths=3)\n",
    "plt.scatter([i for i in range(len(y_pred))],y_pred, label='y_pred', linewidths=0.001)\n",
    "plt.title(selected_combination)\n",
    "plt.yticks([0, 1], ['4G', '5G'])\n",
    "plt.legend()\n",
    "plt.show()"
   ]
  }
 ],
 "metadata": {
  "kernelspec": {
   "display_name": "Python 3",
   "language": "python",
   "name": "python3"
  },
  "language_info": {
   "codemirror_mode": {
    "name": "ipython",
    "version": 3
   },
   "file_extension": ".py",
   "mimetype": "text/x-python",
   "name": "python",
   "nbconvert_exporter": "python",
   "pygments_lexer": "ipython3",
   "version": "3.9.6"
  }
 },
 "nbformat": 4,
 "nbformat_minor": 2
}
