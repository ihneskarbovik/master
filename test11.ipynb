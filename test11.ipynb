{
 "cells": [
  {
   "cell_type": "markdown",
   "metadata": {},
   "source": [
    "# Test Different Features, 1 step ahead"
   ]
  },
  {
   "cell_type": "code",
   "execution_count": 97,
   "metadata": {},
   "outputs": [],
   "source": [
    "import numpy as np\n",
    "import pandas as pd\n",
    "import seaborn as sns\n",
    "import matplotlib.pyplot as plt\n",
    "from keras.models import Sequential\n",
    "from keras.layers import Dense, LSTM"
   ]
  },
  {
   "cell_type": "code",
   "execution_count": 98,
   "metadata": {},
   "outputs": [],
   "source": [
    "def read_dataset(filename, campaign=None, features=None):\n",
    "    df = pd.read_csv(filename)\n",
    "    df = df.loc[:, ~df.columns.str.match('Unnamed')]\n",
    "    df = df.loc[:, ~df.columns.str.match('Timestamp')]\n",
    "    df = df.replace('DC', 1)\n",
    "    df = df.replace('LTE', 0)\n",
    "    df = df[df['campaign'].str.contains('Driving')]\n",
    "\n",
    "    if campaign != None:\n",
    "        df = df[df['campaign'] == campaign]\n",
    "\n",
    "    if features == None:\n",
    "        return df.drop(['Mode'], axis=1), df['Mode']\n",
    "    else:\n",
    "        X, y = df[features], df['Mode']\n",
    "        return X, y\n",
    "\n",
    "\n",
    "def series_split_sequences(f, t, n_steps_in, n_steps_out):\n",
    "    X, y = [], []\n",
    "    curr_campaign = ''\n",
    "    for i in range(len(f)):\n",
    "        # find the end of the pattern\n",
    "        end_ix = i + n_steps_in\n",
    "        out_end_ix = end_ix + n_steps_out\n",
    "\n",
    "        if out_end_ix > len(f): # check to see if we are bwyond the data set\n",
    "            break\n",
    "\n",
    "        if curr_campaign == '': # set new current campaign if there is np campaign\n",
    "            curr_campaign = f['campaign'].iloc[i]\n",
    "        seq_x, seq_y = f[i:end_ix], t[end_ix:out_end_ix]\n",
    "        if f.iloc[i:out_end_ix]['campaign'].nunique() > 1: # check to see if in transition between two campaigns\n",
    "            continue\n",
    "        elif curr_campaign != f['campaign'].iloc[i]: # set new campaign equal to current if this is the campaign we are looping through\n",
    "            curr_campaign = f['campaign'].iloc[i]\n",
    "        X.append(seq_x.drop('campaign', axis=1))\n",
    "        y.append(seq_y)\n",
    "    return np.array(X), np.array(y)\n",
    "\n",
    "\n",
    "def check_handover(y):\n",
    "    new_y = [0]\n",
    "    for i in range(len(y) - 1):\n",
    "        if y[i] == y[i+1]:\n",
    "            new_y.append(0)\n",
    "        else:\n",
    "            new_y.append(1)\n",
    "    return np.array(new_y)\n",
    "\n",
    "def accuracy(y_pred, y_true):\n",
    "    return np.mean(y_pred == y_true)\n",
    "\n",
    "\n",
    "def precision_recall(y_pred, y_true):\n",
    "    tp, fp, fn =  0, 0, 0\n",
    "\n",
    "    # Loop through true and predicted labels to count TP, FP, and FN\n",
    "    for yt, yp in zip(y_true, y_pred):\n",
    "        if yt == 1 and yp == 1:\n",
    "            tp += 1\n",
    "        elif yt == 0 and yp == 1:\n",
    "            fp += 1\n",
    "        elif yt == 1 and yp == 0:\n",
    "            fn += 1\n",
    "\n",
    "    # Precision calculation\n",
    "    if tp + fp == 0:\n",
    "        precision = 0\n",
    "    else:\n",
    "        precision = tp / (tp + fp)\n",
    "\n",
    "    # Recall calculation\n",
    "    if tp + fn == 0:\n",
    "        recall = 0\n",
    "    else:\n",
    "        recall = tp / (tp + fn)\n",
    "\n",
    "    return precision, recall"
   ]
  },
  {
   "cell_type": "code",
   "execution_count": 99,
   "metadata": {},
   "outputs": [],
   "source": [
    "def train_model(X, y):\n",
    "    \n",
    "    n_steps_in, n_steps_out = 3, 1\n",
    "    X, y = series_split_sequences(X, y, n_steps_in, n_steps_out)\n",
    "\n",
    "    train_size = len(y) // 3 * 2\n",
    "    test_size = (len(y) - train_size) // 2\n",
    "\n",
    "    X_train, y_train = X[len(y) - train_size ::], y[len(y) - train_size ::]\n",
    "    X_val, y_val = X[0 : test_size], y[0 : test_size]\n",
    "    X_test, y_test = X[test_size : len(y) - train_size], y[test_size : len(y) - train_size]\n",
    "    y_test_changed = [i[0] for i in y_test]\n",
    "    y_test_changed = check_handover(y_test_changed)\n",
    "\n",
    "    n_features = X_train.shape[2]\n",
    "\n",
    "    model = Sequential()\n",
    "    model.add(LSTM(input_shape=(n_steps_in, n_features), units=10,\n",
    "                   activation='relu', recurrent_activation='sigmoid',\n",
    "                   return_sequences=True, return_state=False\n",
    "                   ))\n",
    "    model.add(LSTM(units=10,\n",
    "                   activation='relu', recurrent_activation='sigmoid',\n",
    "                   return_sequences=False, return_state=False\n",
    "                   ))\n",
    "    model.add(Dense(n_steps_out, activation='sigmoid'))\n",
    "    model.compile(loss='binary_crossentropy',\n",
    "                  metrics=['accuracy'],\n",
    "                  optimizer='adam')\n",
    "    \n",
    "\n",
    "    model.fit(X_train, y_train,\n",
    "              epochs=100,\n",
    "              validation_data=(X_val, y_val),\n",
    "              shuffle=True, verbose=0)\n",
    "    \n",
    "\n",
    "    y_pred = model.predict(X_test)\n",
    "    y_pred = (y_pred >= 0.5).astype(int)\n",
    "    y_pred_changed = check_handover(y_pred)\n",
    "    precision, recall = precision_recall(y_pred, y_test)\n",
    "    acc = accuracy(y_pred, y_test)\n",
    "\n",
    "    metrics = {'y_pred': y_pred, \n",
    "               'y_true': y_test,\n",
    "               'n_5g_pred': sum(y_pred)[0],\n",
    "               'n_5g_true': sum(y_test)[0],\n",
    "               'n_ho_pred': sum(y_pred_changed),\n",
    "               'n_ho_true': sum(y_test_changed),\n",
    "               'Accuracy': acc, \n",
    "               'Precision': precision, \n",
    "               'Recall': recall}\n",
    "\n",
    "    return metrics"
   ]
  },
  {
   "cell_type": "code",
   "execution_count": 100,
   "metadata": {},
   "outputs": [
    {
     "name": "stderr",
     "output_type": "stream",
     "text": [
      "/Users/ihneskarbovik/Library/Python/3.9/lib/python/site-packages/keras/src/layers/rnn/rnn.py:204: UserWarning: Do not pass an `input_shape`/`input_dim` argument to a layer. When using Sequential models, prefer using an `Input(shape)` object as the first layer in the model instead.\n",
      "  super().__init__(**kwargs)\n"
     ]
    },
    {
     "name": "stdout",
     "output_type": "stream",
     "text": [
      "\u001b[1m35/35\u001b[0m \u001b[32m━━━━━━━━━━━━━━━━━━━━\u001b[0m\u001b[37m\u001b[0m \u001b[1m0s\u001b[0m 6ms/step\n"
     ]
    },
    {
     "name": "stderr",
     "output_type": "stream",
     "text": [
      "/Users/ihneskarbovik/Library/Python/3.9/lib/python/site-packages/keras/src/layers/rnn/rnn.py:204: UserWarning: Do not pass an `input_shape`/`input_dim` argument to a layer. When using Sequential models, prefer using an `Input(shape)` object as the first layer in the model instead.\n",
      "  super().__init__(**kwargs)\n"
     ]
    },
    {
     "name": "stdout",
     "output_type": "stream",
     "text": [
      "\u001b[1m35/35\u001b[0m \u001b[32m━━━━━━━━━━━━━━━━━━━━\u001b[0m\u001b[37m\u001b[0m \u001b[1m0s\u001b[0m 5ms/step\n"
     ]
    },
    {
     "name": "stderr",
     "output_type": "stream",
     "text": [
      "/Users/ihneskarbovik/Library/Python/3.9/lib/python/site-packages/keras/src/layers/rnn/rnn.py:204: UserWarning: Do not pass an `input_shape`/`input_dim` argument to a layer. When using Sequential models, prefer using an `Input(shape)` object as the first layer in the model instead.\n",
      "  super().__init__(**kwargs)\n"
     ]
    },
    {
     "name": "stdout",
     "output_type": "stream",
     "text": [
      "\u001b[1m35/35\u001b[0m \u001b[32m━━━━━━━━━━━━━━━━━━━━\u001b[0m\u001b[37m\u001b[0m \u001b[1m0s\u001b[0m 6ms/step\n"
     ]
    },
    {
     "name": "stderr",
     "output_type": "stream",
     "text": [
      "/Users/ihneskarbovik/Library/Python/3.9/lib/python/site-packages/keras/src/layers/rnn/rnn.py:204: UserWarning: Do not pass an `input_shape`/`input_dim` argument to a layer. When using Sequential models, prefer using an `Input(shape)` object as the first layer in the model instead.\n",
      "  super().__init__(**kwargs)\n"
     ]
    },
    {
     "name": "stdout",
     "output_type": "stream",
     "text": [
      "\u001b[1m35/35\u001b[0m \u001b[32m━━━━━━━━━━━━━━━━━━━━\u001b[0m\u001b[37m\u001b[0m \u001b[1m0s\u001b[0m 5ms/step\n"
     ]
    },
    {
     "name": "stderr",
     "output_type": "stream",
     "text": [
      "/Users/ihneskarbovik/Library/Python/3.9/lib/python/site-packages/keras/src/layers/rnn/rnn.py:204: UserWarning: Do not pass an `input_shape`/`input_dim` argument to a layer. When using Sequential models, prefer using an `Input(shape)` object as the first layer in the model instead.\n",
      "  super().__init__(**kwargs)\n"
     ]
    },
    {
     "name": "stdout",
     "output_type": "stream",
     "text": [
      "\u001b[1m35/35\u001b[0m \u001b[32m━━━━━━━━━━━━━━━━━━━━\u001b[0m\u001b[37m\u001b[0m \u001b[1m0s\u001b[0m 5ms/step\n"
     ]
    },
    {
     "name": "stderr",
     "output_type": "stream",
     "text": [
      "/Users/ihneskarbovik/Library/Python/3.9/lib/python/site-packages/keras/src/layers/rnn/rnn.py:204: UserWarning: Do not pass an `input_shape`/`input_dim` argument to a layer. When using Sequential models, prefer using an `Input(shape)` object as the first layer in the model instead.\n",
      "  super().__init__(**kwargs)\n"
     ]
    },
    {
     "name": "stdout",
     "output_type": "stream",
     "text": [
      "\u001b[1m35/35\u001b[0m \u001b[32m━━━━━━━━━━━━━━━━━━━━\u001b[0m\u001b[37m\u001b[0m \u001b[1m0s\u001b[0m 5ms/step\n"
     ]
    },
    {
     "name": "stderr",
     "output_type": "stream",
     "text": [
      "/Users/ihneskarbovik/Library/Python/3.9/lib/python/site-packages/keras/src/layers/rnn/rnn.py:204: UserWarning: Do not pass an `input_shape`/`input_dim` argument to a layer. When using Sequential models, prefer using an `Input(shape)` object as the first layer in the model instead.\n",
      "  super().__init__(**kwargs)\n"
     ]
    },
    {
     "name": "stdout",
     "output_type": "stream",
     "text": [
      "\u001b[1m35/35\u001b[0m \u001b[32m━━━━━━━━━━━━━━━━━━━━\u001b[0m\u001b[37m\u001b[0m \u001b[1m0s\u001b[0m 5ms/step\n"
     ]
    },
    {
     "name": "stderr",
     "output_type": "stream",
     "text": [
      "/Users/ihneskarbovik/Library/Python/3.9/lib/python/site-packages/keras/src/layers/rnn/rnn.py:204: UserWarning: Do not pass an `input_shape`/`input_dim` argument to a layer. When using Sequential models, prefer using an `Input(shape)` object as the first layer in the model instead.\n",
      "  super().__init__(**kwargs)\n"
     ]
    },
    {
     "name": "stdout",
     "output_type": "stream",
     "text": [
      "\u001b[1m35/35\u001b[0m \u001b[32m━━━━━━━━━━━━━━━━━━━━\u001b[0m\u001b[37m\u001b[0m \u001b[1m0s\u001b[0m 4ms/step\n"
     ]
    },
    {
     "name": "stderr",
     "output_type": "stream",
     "text": [
      "/Users/ihneskarbovik/Library/Python/3.9/lib/python/site-packages/keras/src/layers/rnn/rnn.py:204: UserWarning: Do not pass an `input_shape`/`input_dim` argument to a layer. When using Sequential models, prefer using an `Input(shape)` object as the first layer in the model instead.\n",
      "  super().__init__(**kwargs)\n"
     ]
    },
    {
     "name": "stdout",
     "output_type": "stream",
     "text": [
      "\u001b[1m35/35\u001b[0m \u001b[32m━━━━━━━━━━━━━━━━━━━━\u001b[0m\u001b[37m\u001b[0m \u001b[1m0s\u001b[0m 6ms/step\n"
     ]
    },
    {
     "name": "stderr",
     "output_type": "stream",
     "text": [
      "/Users/ihneskarbovik/Library/Python/3.9/lib/python/site-packages/keras/src/layers/rnn/rnn.py:204: UserWarning: Do not pass an `input_shape`/`input_dim` argument to a layer. When using Sequential models, prefer using an `Input(shape)` object as the first layer in the model instead.\n",
      "  super().__init__(**kwargs)\n"
     ]
    },
    {
     "name": "stdout",
     "output_type": "stream",
     "text": [
      "\u001b[1m35/35\u001b[0m \u001b[32m━━━━━━━━━━━━━━━━━━━━\u001b[0m\u001b[37m\u001b[0m \u001b[1m0s\u001b[0m 5ms/step\n"
     ]
    },
    {
     "name": "stderr",
     "output_type": "stream",
     "text": [
      "/Users/ihneskarbovik/Library/Python/3.9/lib/python/site-packages/keras/src/layers/rnn/rnn.py:204: UserWarning: Do not pass an `input_shape`/`input_dim` argument to a layer. When using Sequential models, prefer using an `Input(shape)` object as the first layer in the model instead.\n",
      "  super().__init__(**kwargs)\n"
     ]
    },
    {
     "name": "stdout",
     "output_type": "stream",
     "text": [
      "\u001b[1m35/35\u001b[0m \u001b[32m━━━━━━━━━━━━━━━━━━━━\u001b[0m\u001b[37m\u001b[0m \u001b[1m0s\u001b[0m 5ms/step\n"
     ]
    },
    {
     "name": "stderr",
     "output_type": "stream",
     "text": [
      "/Users/ihneskarbovik/Library/Python/3.9/lib/python/site-packages/keras/src/layers/rnn/rnn.py:204: UserWarning: Do not pass an `input_shape`/`input_dim` argument to a layer. When using Sequential models, prefer using an `Input(shape)` object as the first layer in the model instead.\n",
      "  super().__init__(**kwargs)\n"
     ]
    },
    {
     "name": "stdout",
     "output_type": "stream",
     "text": [
      "\u001b[1m35/35\u001b[0m \u001b[32m━━━━━━━━━━━━━━━━━━━━\u001b[0m\u001b[37m\u001b[0m \u001b[1m0s\u001b[0m 5ms/step\n"
     ]
    },
    {
     "name": "stderr",
     "output_type": "stream",
     "text": [
      "/Users/ihneskarbovik/Library/Python/3.9/lib/python/site-packages/keras/src/layers/rnn/rnn.py:204: UserWarning: Do not pass an `input_shape`/`input_dim` argument to a layer. When using Sequential models, prefer using an `Input(shape)` object as the first layer in the model instead.\n",
      "  super().__init__(**kwargs)\n"
     ]
    },
    {
     "name": "stdout",
     "output_type": "stream",
     "text": [
      "\u001b[1m35/35\u001b[0m \u001b[32m━━━━━━━━━━━━━━━━━━━━\u001b[0m\u001b[37m\u001b[0m \u001b[1m0s\u001b[0m 4ms/step\n"
     ]
    },
    {
     "name": "stderr",
     "output_type": "stream",
     "text": [
      "/Users/ihneskarbovik/Library/Python/3.9/lib/python/site-packages/keras/src/layers/rnn/rnn.py:204: UserWarning: Do not pass an `input_shape`/`input_dim` argument to a layer. When using Sequential models, prefer using an `Input(shape)` object as the first layer in the model instead.\n",
      "  super().__init__(**kwargs)\n"
     ]
    },
    {
     "name": "stdout",
     "output_type": "stream",
     "text": [
      "\u001b[1m35/35\u001b[0m \u001b[32m━━━━━━━━━━━━━━━━━━━━\u001b[0m\u001b[37m\u001b[0m \u001b[1m0s\u001b[0m 4ms/step\n"
     ]
    },
    {
     "name": "stderr",
     "output_type": "stream",
     "text": [
      "/Users/ihneskarbovik/Library/Python/3.9/lib/python/site-packages/keras/src/layers/rnn/rnn.py:204: UserWarning: Do not pass an `input_shape`/`input_dim` argument to a layer. When using Sequential models, prefer using an `Input(shape)` object as the first layer in the model instead.\n",
      "  super().__init__(**kwargs)\n"
     ]
    },
    {
     "name": "stdout",
     "output_type": "stream",
     "text": [
      "\u001b[1m35/35\u001b[0m \u001b[32m━━━━━━━━━━━━━━━━━━━━\u001b[0m\u001b[37m\u001b[0m \u001b[1m0s\u001b[0m 6ms/step\n"
     ]
    },
    {
     "name": "stderr",
     "output_type": "stream",
     "text": [
      "/Users/ihneskarbovik/Library/Python/3.9/lib/python/site-packages/keras/src/layers/rnn/rnn.py:204: UserWarning: Do not pass an `input_shape`/`input_dim` argument to a layer. When using Sequential models, prefer using an `Input(shape)` object as the first layer in the model instead.\n",
      "  super().__init__(**kwargs)\n"
     ]
    },
    {
     "name": "stdout",
     "output_type": "stream",
     "text": [
      "\u001b[1m35/35\u001b[0m \u001b[32m━━━━━━━━━━━━━━━━━━━━\u001b[0m\u001b[37m\u001b[0m \u001b[1m0s\u001b[0m 4ms/step\n"
     ]
    },
    {
     "name": "stderr",
     "output_type": "stream",
     "text": [
      "/Users/ihneskarbovik/Library/Python/3.9/lib/python/site-packages/keras/src/layers/rnn/rnn.py:204: UserWarning: Do not pass an `input_shape`/`input_dim` argument to a layer. When using Sequential models, prefer using an `Input(shape)` object as the first layer in the model instead.\n",
      "  super().__init__(**kwargs)\n"
     ]
    },
    {
     "name": "stdout",
     "output_type": "stream",
     "text": [
      "\u001b[1m35/35\u001b[0m \u001b[32m━━━━━━━━━━━━━━━━━━━━\u001b[0m\u001b[37m\u001b[0m \u001b[1m0s\u001b[0m 4ms/step\n"
     ]
    },
    {
     "name": "stderr",
     "output_type": "stream",
     "text": [
      "/Users/ihneskarbovik/Library/Python/3.9/lib/python/site-packages/keras/src/layers/rnn/rnn.py:204: UserWarning: Do not pass an `input_shape`/`input_dim` argument to a layer. When using Sequential models, prefer using an `Input(shape)` object as the first layer in the model instead.\n",
      "  super().__init__(**kwargs)\n"
     ]
    },
    {
     "name": "stdout",
     "output_type": "stream",
     "text": [
      "\u001b[1m35/35\u001b[0m \u001b[32m━━━━━━━━━━━━━━━━━━━━\u001b[0m\u001b[37m\u001b[0m \u001b[1m0s\u001b[0m 4ms/step\n"
     ]
    }
   ],
   "source": [
    "metrics = {}\n",
    "\n",
    "campaign='Interactivity_gaming_4G5G_TIM_Driving_Palasport_to_Via_Appia_End_No_Flight_Mode'\n",
    "\n",
    "feature_selection = [['RSRP'], ['SINR'], ['RSRQ'], ['SSS_RSRP'], ['SSS_SINR'], ['SSS_RSRQ'], \n",
    "                     ['RSRP', 'RSRQ'], ['RSRP', 'SINR'], ['SINR', 'RSRQ'], ['RSRP', 'SINR', 'RSRQ'],\n",
    "                     ['SSS_RSRP', 'SSS_SINR'], ['SSS_SINR', 'SSS_RSRQ'], ['SSS_RSRP', 'SSS_RSRQ'], ['SSS_RSRP', 'SSS_SINR', 'SSS_RSRQ'],\n",
    "                     ['RSRP', 'SSS_RSRP'], ['SINR', 'SSS_SINR'], ['RSRQ', 'SSS_RSRQ'],\n",
    "                     ['RSRP', 'SINR', 'RSRQ', 'SSS_RSRP', 'SSS_SINR', 'SSS_RSRQ']]\n",
    "\n",
    "for fearures in feature_selection:\n",
    "    used_features = ', '.join(fearures)\n",
    "    fearures.append('campaign')\n",
    "    X, y = read_dataset('datasets/Op1_merged.csv', campaign=campaign, features=fearures)\n",
    "    metrics[used_features] = train_model(X, y)\n"
   ]
  },
  {
   "cell_type": "code",
   "execution_count": 103,
   "metadata": {},
   "outputs": [
    {
     "data": {
      "text/html": [
       "<div>\n",
       "<style scoped>\n",
       "    .dataframe tbody tr th:only-of-type {\n",
       "        vertical-align: middle;\n",
       "    }\n",
       "\n",
       "    .dataframe tbody tr th {\n",
       "        vertical-align: top;\n",
       "    }\n",
       "\n",
       "    .dataframe thead th {\n",
       "        text-align: right;\n",
       "    }\n",
       "</style>\n",
       "<table border=\"1\" class=\"dataframe\">\n",
       "  <thead>\n",
       "    <tr style=\"text-align: right;\">\n",
       "      <th></th>\n",
       "      <th>Combination</th>\n",
       "      <th>n_5g_pred</th>\n",
       "      <th>n_5g_true</th>\n",
       "      <th>n_ho_pred</th>\n",
       "      <th>n_ho_true</th>\n",
       "      <th>Accuracy</th>\n",
       "      <th>Precision</th>\n",
       "      <th>Recall</th>\n",
       "    </tr>\n",
       "  </thead>\n",
       "  <tbody>\n",
       "    <tr>\n",
       "      <th>0</th>\n",
       "      <td>RSRP</td>\n",
       "      <td>0</td>\n",
       "      <td>390</td>\n",
       "      <td>0</td>\n",
       "      <td>11</td>\n",
       "      <td>0.645455</td>\n",
       "      <td>0.000000</td>\n",
       "      <td>0.000000</td>\n",
       "    </tr>\n",
       "    <tr>\n",
       "      <th>1</th>\n",
       "      <td>SINR</td>\n",
       "      <td>1</td>\n",
       "      <td>390</td>\n",
       "      <td>2</td>\n",
       "      <td>11</td>\n",
       "      <td>0.644545</td>\n",
       "      <td>0.000000</td>\n",
       "      <td>0.000000</td>\n",
       "    </tr>\n",
       "    <tr>\n",
       "      <th>2</th>\n",
       "      <td>RSRQ</td>\n",
       "      <td>63</td>\n",
       "      <td>390</td>\n",
       "      <td>4</td>\n",
       "      <td>11</td>\n",
       "      <td>0.595455</td>\n",
       "      <td>0.063492</td>\n",
       "      <td>0.010256</td>\n",
       "    </tr>\n",
       "    <tr>\n",
       "      <th>3</th>\n",
       "      <td>SSS_RSRP</td>\n",
       "      <td>0</td>\n",
       "      <td>390</td>\n",
       "      <td>0</td>\n",
       "      <td>11</td>\n",
       "      <td>0.645455</td>\n",
       "      <td>0.000000</td>\n",
       "      <td>0.000000</td>\n",
       "    </tr>\n",
       "    <tr>\n",
       "      <th>4</th>\n",
       "      <td>SSS_SINR</td>\n",
       "      <td>66</td>\n",
       "      <td>390</td>\n",
       "      <td>34</td>\n",
       "      <td>11</td>\n",
       "      <td>0.656364</td>\n",
       "      <td>0.590909</td>\n",
       "      <td>0.100000</td>\n",
       "    </tr>\n",
       "    <tr>\n",
       "      <th>5</th>\n",
       "      <td>SSS_RSRQ</td>\n",
       "      <td>0</td>\n",
       "      <td>390</td>\n",
       "      <td>0</td>\n",
       "      <td>11</td>\n",
       "      <td>0.645455</td>\n",
       "      <td>0.000000</td>\n",
       "      <td>0.000000</td>\n",
       "    </tr>\n",
       "    <tr>\n",
       "      <th>6</th>\n",
       "      <td>RSRP, RSRQ</td>\n",
       "      <td>60</td>\n",
       "      <td>390</td>\n",
       "      <td>5</td>\n",
       "      <td>11</td>\n",
       "      <td>0.590909</td>\n",
       "      <td>0.000000</td>\n",
       "      <td>0.000000</td>\n",
       "    </tr>\n",
       "    <tr>\n",
       "      <th>7</th>\n",
       "      <td>RSRP, SINR</td>\n",
       "      <td>8</td>\n",
       "      <td>390</td>\n",
       "      <td>4</td>\n",
       "      <td>11</td>\n",
       "      <td>0.638182</td>\n",
       "      <td>0.000000</td>\n",
       "      <td>0.000000</td>\n",
       "    </tr>\n",
       "    <tr>\n",
       "      <th>8</th>\n",
       "      <td>SINR, RSRQ</td>\n",
       "      <td>44</td>\n",
       "      <td>390</td>\n",
       "      <td>8</td>\n",
       "      <td>11</td>\n",
       "      <td>0.609091</td>\n",
       "      <td>0.045455</td>\n",
       "      <td>0.005128</td>\n",
       "    </tr>\n",
       "    <tr>\n",
       "      <th>9</th>\n",
       "      <td>RSRP, SINR, RSRQ</td>\n",
       "      <td>32</td>\n",
       "      <td>390</td>\n",
       "      <td>4</td>\n",
       "      <td>11</td>\n",
       "      <td>0.618182</td>\n",
       "      <td>0.031250</td>\n",
       "      <td>0.002564</td>\n",
       "    </tr>\n",
       "    <tr>\n",
       "      <th>10</th>\n",
       "      <td>SSS_RSRP, SSS_SINR</td>\n",
       "      <td>18</td>\n",
       "      <td>390</td>\n",
       "      <td>30</td>\n",
       "      <td>11</td>\n",
       "      <td>0.654545</td>\n",
       "      <td>0.777778</td>\n",
       "      <td>0.035897</td>\n",
       "    </tr>\n",
       "    <tr>\n",
       "      <th>11</th>\n",
       "      <td>SSS_SINR, SSS_RSRQ</td>\n",
       "      <td>109</td>\n",
       "      <td>390</td>\n",
       "      <td>38</td>\n",
       "      <td>11</td>\n",
       "      <td>0.717273</td>\n",
       "      <td>0.862385</td>\n",
       "      <td>0.241026</td>\n",
       "    </tr>\n",
       "    <tr>\n",
       "      <th>12</th>\n",
       "      <td>SSS_RSRP, SSS_RSRQ</td>\n",
       "      <td>25</td>\n",
       "      <td>390</td>\n",
       "      <td>8</td>\n",
       "      <td>11</td>\n",
       "      <td>0.668182</td>\n",
       "      <td>1.000000</td>\n",
       "      <td>0.064103</td>\n",
       "    </tr>\n",
       "    <tr>\n",
       "      <th>13</th>\n",
       "      <td>SSS_RSRP, SSS_SINR, SSS_RSRQ</td>\n",
       "      <td>76</td>\n",
       "      <td>390</td>\n",
       "      <td>30</td>\n",
       "      <td>11</td>\n",
       "      <td>0.712727</td>\n",
       "      <td>0.986842</td>\n",
       "      <td>0.192308</td>\n",
       "    </tr>\n",
       "    <tr>\n",
       "      <th>14</th>\n",
       "      <td>RSRP, SSS_RSRP</td>\n",
       "      <td>157</td>\n",
       "      <td>390</td>\n",
       "      <td>30</td>\n",
       "      <td>11</td>\n",
       "      <td>0.637273</td>\n",
       "      <td>0.471338</td>\n",
       "      <td>0.189744</td>\n",
       "    </tr>\n",
       "    <tr>\n",
       "      <th>15</th>\n",
       "      <td>SINR, SSS_SINR</td>\n",
       "      <td>93</td>\n",
       "      <td>390</td>\n",
       "      <td>40</td>\n",
       "      <td>11</td>\n",
       "      <td>0.693636</td>\n",
       "      <td>0.784946</td>\n",
       "      <td>0.187179</td>\n",
       "    </tr>\n",
       "    <tr>\n",
       "      <th>16</th>\n",
       "      <td>RSRQ, SSS_RSRQ</td>\n",
       "      <td>66</td>\n",
       "      <td>390</td>\n",
       "      <td>20</td>\n",
       "      <td>11</td>\n",
       "      <td>0.625455</td>\n",
       "      <td>0.333333</td>\n",
       "      <td>0.056410</td>\n",
       "    </tr>\n",
       "    <tr>\n",
       "      <th>17</th>\n",
       "      <td>RSRP, SINR, RSRQ, SSS_RSRP, SSS_SINR, SSS_RSRQ</td>\n",
       "      <td>136</td>\n",
       "      <td>390</td>\n",
       "      <td>23</td>\n",
       "      <td>11</td>\n",
       "      <td>0.754545</td>\n",
       "      <td>0.941176</td>\n",
       "      <td>0.328205</td>\n",
       "    </tr>\n",
       "  </tbody>\n",
       "</table>\n",
       "</div>"
      ],
      "text/plain": [
       "                                       Combination  n_5g_pred  n_5g_true  \\\n",
       "0                                             RSRP          0        390   \n",
       "1                                             SINR          1        390   \n",
       "2                                             RSRQ         63        390   \n",
       "3                                         SSS_RSRP          0        390   \n",
       "4                                         SSS_SINR         66        390   \n",
       "5                                         SSS_RSRQ          0        390   \n",
       "6                                       RSRP, RSRQ         60        390   \n",
       "7                                       RSRP, SINR          8        390   \n",
       "8                                       SINR, RSRQ         44        390   \n",
       "9                                 RSRP, SINR, RSRQ         32        390   \n",
       "10                              SSS_RSRP, SSS_SINR         18        390   \n",
       "11                              SSS_SINR, SSS_RSRQ        109        390   \n",
       "12                              SSS_RSRP, SSS_RSRQ         25        390   \n",
       "13                    SSS_RSRP, SSS_SINR, SSS_RSRQ         76        390   \n",
       "14                                  RSRP, SSS_RSRP        157        390   \n",
       "15                                  SINR, SSS_SINR         93        390   \n",
       "16                                  RSRQ, SSS_RSRQ         66        390   \n",
       "17  RSRP, SINR, RSRQ, SSS_RSRP, SSS_SINR, SSS_RSRQ        136        390   \n",
       "\n",
       "    n_ho_pred  n_ho_true  Accuracy  Precision    Recall  \n",
       "0           0         11  0.645455   0.000000  0.000000  \n",
       "1           2         11  0.644545   0.000000  0.000000  \n",
       "2           4         11  0.595455   0.063492  0.010256  \n",
       "3           0         11  0.645455   0.000000  0.000000  \n",
       "4          34         11  0.656364   0.590909  0.100000  \n",
       "5           0         11  0.645455   0.000000  0.000000  \n",
       "6           5         11  0.590909   0.000000  0.000000  \n",
       "7           4         11  0.638182   0.000000  0.000000  \n",
       "8           8         11  0.609091   0.045455  0.005128  \n",
       "9           4         11  0.618182   0.031250  0.002564  \n",
       "10         30         11  0.654545   0.777778  0.035897  \n",
       "11         38         11  0.717273   0.862385  0.241026  \n",
       "12          8         11  0.668182   1.000000  0.064103  \n",
       "13         30         11  0.712727   0.986842  0.192308  \n",
       "14         30         11  0.637273   0.471338  0.189744  \n",
       "15         40         11  0.693636   0.784946  0.187179  \n",
       "16         20         11  0.625455   0.333333  0.056410  \n",
       "17         23         11  0.754545   0.941176  0.328205  "
      ]
     },
     "execution_count": 103,
     "metadata": {},
     "output_type": "execute_result"
    }
   ],
   "source": [
    "df_metrics = pd.DataFrame.from_dict(metrics, orient='index')\n",
    "\n",
    "df_metrics.reset_index(inplace=True)\n",
    "df_metrics.rename(columns={'index': 'Combination'}, inplace=True)\n",
    "df_metrics = df_metrics.drop(['y_pred', 'y_true'], axis=1)\n",
    "df_metrics"
   ]
  },
  {
   "cell_type": "code",
   "execution_count": 104,
   "metadata": {},
   "outputs": [
    {
     "data": {
      "image/png": "[encoded data removed]",
      "text/plain": [
       "<Figure size 640x480 with 1 Axes>"
      ]
     },
     "metadata": {},
     "output_type": "display_data"
    }
   ],
   "source": [
    "# looking at combination 'SSS_SINR, SSS_RSRQ'\n",
    "\n",
    "comb = metrics['SSS_SINR, SSS_RSRQ']\n",
    "y_pred = comb['y_pred']\n",
    "y_true = comb['y_true']\n",
    "hos = []\n",
    "\n",
    "for i in range(len(check_handover(y_true))):\n",
    "    if check_handover(y_true)[i] == 1:\n",
    "        hos.append(i)\n",
    "\n",
    "plt.plot(y_pred - y_true, label='y_pred - y_true')\n",
    "plt.plot(hos, [0 for _ in range(len(hos))], '*', color='black', label='True HOs')\n",
    "plt.yticks(range(-1, 2))\n",
    "plt.xlabel('Index / Timestep')\n",
    "plt.ylabel('y_pred minus y_true')\n",
    "plt.legend()\n",
    "plt.show()"
   ]
  },
  {
   "cell_type": "markdown",
   "metadata": {},
   "source": [
    "y = -1: The model predicts 4G, but there is actually 5G\n",
    "\n",
    "y = 1: The model predicts 5G, but there is actually 4G\n",
    "\n",
    "y = 0: The model predicts correct"
   ]
  }
 ],
 "metadata": {
  "kernelspec": {
   "display_name": "Python 3",
   "language": "python",
   "name": "python3"
  },
  "language_info": {
   "codemirror_mode": {
    "name": "ipython",
    "version": 3
   },
   "file_extension": ".py",
   "mimetype": "text/x-python",
   "name": "python",
   "nbconvert_exporter": "python",
   "pygments_lexer": "ipython3",
   "version": "3.9.6"
  }
 },
 "nbformat": 4,
 "nbformat_minor": 2
}
