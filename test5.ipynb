{
 "cells": [
  {
   "cell_type": "markdown",
   "metadata": {},
   "source": [
    "# Nå tror jeg at jeg har et bra utgangspunkt til å lage modeller as :) "
   ]
  },
  {
   "cell_type": "markdown",
   "metadata": {},
   "source": [
    "#### Imports "
   ]
  },
  {
   "cell_type": "code",
   "execution_count": 2,
   "metadata": {},
   "outputs": [],
   "source": [
    "import pandas as pd\n",
    "import numpy as np\n",
    "from sklearn.model_selection import TimeSeriesSplit\n",
    "from keras.models import Sequential\n",
    "from keras.layers import LSTM, Dense"
   ]
  },
  {
   "cell_type": "markdown",
   "metadata": {},
   "source": [
    "#### Prepping dataset and some necessary functions"
   ]
  },
  {
   "cell_type": "code",
   "execution_count": 3,
   "metadata": {},
   "outputs": [],
   "source": [
    "# gather data set and split in x and y\n",
    "def read_dataset(filename):\n",
    "    df = pd.read_csv(filename)\n",
    "    df = df.loc[:, ~df.columns.str.match('Unnamed')]\n",
    "    df = df.replace('DC', 1)\n",
    "    df = df.replace('LTE', 0)\n",
    "\n",
    "    X, y = df.drop('Mode', axis=1), df['Mode']\n",
    "    return X, y\n",
    "\n",
    "# splitting the data into time series that overlap\n",
    "def split_time_series(X, y):\n",
    "    tss = TimeSeriesSplit(n_splits=2)\n",
    "\n",
    "    for train_index, test_index in tss.split(X):\n",
    "        X_train, X_test = np.array(X.iloc[train_index, :]), np.array(X.iloc[test_index,:])\n",
    "        y_train, y_test = np.array(y.iloc[train_index]), np.array(y.iloc[test_index])\n",
    "\n",
    "    # reshaping y to match dimentions of X\n",
    "    y_train = y_train.reshape(len(y_train), 1)\n",
    "    y_test = y_test.reshape(len(y_test), 1)\n",
    "    # horizontally stack columns\n",
    "    trainingset = np.hstack((X_train, y_train))\n",
    "    testset = np.hstack((X_test, y_test))\n",
    "\n",
    "    return trainingset, testset\n",
    "\n",
    "def series_split_sequences(sequences, n_steps_in, n_steps_out):\n",
    "    X, y = [], []\n",
    "    for i in range(len(sequences)):\n",
    "        # find the end of this pattern\n",
    "        end_ix = i + n_steps_in\n",
    "        out_end_ix = end_ix + n_steps_out\n",
    "        # check to see if we are bwyond the data set\n",
    "        if out_end_ix > len(sequences):\n",
    "            break\n",
    "        # gather input and output parts of the pattern\n",
    "        seq_x, seq_y = sequences[i:end_ix, :-1], sequences[end_ix:out_end_ix, -1]\n",
    "        X.append(seq_x)\n",
    "        y.append(seq_y)\n",
    "    return np.array(X), np.array(y)\n",
    "\n",
    "def parallel_split_sequences(sequences, n_steps_in, n_steps_out):\n",
    "    X, y = [], []\n",
    "    for i in range(len(sequences)):\n",
    "        # find the end of this pattern\n",
    "        end_ix = i + n_steps_in\n",
    "        out_end_ix = end_ix + n_steps_out\n",
    "        # check to see if we are beyond the data set\n",
    "        if out_end_ix > len(sequences):\n",
    "            break\n",
    "        # gather input and output parts of the pattern\n",
    "        seq_x, seq_y = sequences[i:end_ix, :], sequences[end_ix:out_end_ix, :]\n",
    "        X.append(seq_x)\n",
    "        y.append(seq_y)\n",
    "    return np.array(X), np.array(y)\n",
    "\n",
    "def vertical_handover(y):\n",
    "    new_y = []\n",
    "    for seq in y:\n",
    "        if 0 in seq and 1 in seq:\n",
    "            new_y.append(1)\n",
    "        else:\n",
    "            new_y.append(0)\n",
    "    return np.array(new_y)\n",
    "\n",
    "def accuracy(y_pred, y_true):\n",
    "    return np.mean(y_pred == y_true)\n",
    "\n",
    "def precision_recall(y_pred, y_true):\n",
    "    tp, fp, fn =  0, 0, 0\n",
    "\n",
    "    # Loop through true and predicted labels to count TP, FP, and FN\n",
    "    for yt, yp in zip(y_true, y_pred):\n",
    "        if yt == 1 and yp == 1:\n",
    "            tp += 1\n",
    "        elif yt == 0 and yp == 1:\n",
    "            fp += 1\n",
    "        elif yt == 1 and yp == 0:\n",
    "            fn += 1\n",
    "    print(tp, fp, fn)\n",
    "\n",
    "    # Precision calculation\n",
    "    if tp + fp == 0:\n",
    "        precision = 0\n",
    "    else:\n",
    "        precision = tp / (tp + fp)\n",
    "\n",
    "    # Recall calculation\n",
    "    if tp + fn == 0:\n",
    "        recall = 0\n",
    "    else:\n",
    "        recall = tp / (tp + fn)\n",
    "\n",
    "    return precision, recall"
   ]
  },
  {
   "cell_type": "code",
   "execution_count": 4,
   "metadata": {},
   "outputs": [],
   "source": [
    "X, y = read_dataset('datasets/Op1_merged.csv')\n",
    "most_points = 'Capacity_Ookla_UNIDATA_4G5G_TIM_Walking_Tuscolana_Stat_Appia'"
   ]
  }
 ],
 "metadata": {
  "kernelspec": {
   "display_name": "Python 3",
   "language": "python",
   "name": "python3"
  },
  "language_info": {
   "codemirror_mode": {
    "name": "ipython",
    "version": 3
   },
   "file_extension": ".py",
   "mimetype": "text/x-python",
   "name": "python",
   "nbconvert_exporter": "python",
   "pygments_lexer": "ipython3",
   "version": "3.9.6"
  }
 },
 "nbformat": 4,
 "nbformat_minor": 2
}
