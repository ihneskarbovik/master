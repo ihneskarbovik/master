{
 "cells": [
  {
   "cell_type": "markdown",
   "metadata": {},
   "source": [
    "# PyTorch LSTM forhåpentlig vis bedre"
   ]
  },
  {
   "cell_type": "markdown",
   "metadata": {},
   "source": [
    "### Imports"
   ]
  },
  {
   "cell_type": "code",
   "execution_count": 186,
   "metadata": {},
   "outputs": [],
   "source": [
    "import numpy as np\n",
    "import pandas as pd\n",
    "import seaborn as sns\n",
    "import matplotlib.pyplot as plt\n",
    "from matplotlib.colors import ListedColormap\n",
    "from keras.models import Sequential\n",
    "from keras.layers import Dense, LSTM, BatchNormalization\n",
    "from keras.optimizers import Adam\n",
    "from keras.callbacks import ReduceLROnPlateau, EarlyStopping\n",
    "from keras.regularizers import l2\n",
    "from sklearn.preprocessing import StandardScaler\n",
    "from time import time"
   ]
  },
  {
   "cell_type": "code",
   "execution_count": 218,
   "metadata": {},
   "outputs": [],
   "source": [
    "uio_orange = '#FEA11B'\n",
    "autumn_leaves = ['#614419', '#B37E2E', '#DB9A39', '#FFB343']\n",
    "autumn_leaves = autumn_leaves[-1::]\n",
    "autumn_leaves_palett = ListedColormap(sns.color_palette(autumn_leaves))\n",
    "breakfast_tea = ['#331C08', '#664C36', '#CCBEB1', '#FFD3AC']\n",
    "breakfast_tea_palett = ListedColormap(sns.color_palette(breakfast_tea))\n",
    "night_sands = ['#574A24', '#80775C', '#FAE8B4', '#CBBD93']\n",
    "night_sands_palett = ListedColormap(sns.color_palette(night_sands))\n",
    "\n",
    "colors = autumn_leaves\n",
    "color_palett = autumn_leaves_palett"
   ]
  },
  {
   "cell_type": "code",
   "execution_count": 176,
   "metadata": {},
   "outputs": [],
   "source": [
    "def read_dataset(filename):\n",
    "    df = pd.read_csv(filename)\n",
    "    df = df.loc[:, ~df.columns.str.match('Unnamed')]\n",
    "    df = df.loc[:, ~df.columns.str.match('Timestamp')]\n",
    "    df = df.replace('DC', 1)\n",
    "    df = df.replace('LTE', 0)\n",
    "\n",
    "    X, y = df.drop('Mode', axis=1), df['Mode']\n",
    "    return X, y\n",
    "\n",
    "\n",
    "# function from https://machinelearningmastery.com/lstm-for-time-series-prediction-in-pytorch/ \n",
    "def create_dataset(f, t, lookback):\n",
    "    curr_campaign = ''\n",
    "    X, y = [], []\n",
    "    for i in range(len(t) - lookback):\n",
    "        feature = f[i : i + lookback]\n",
    "        target = t[i + 1 : i + lookback + 1]\n",
    "        if curr_campaign == '': # set new current campaign if there is np campaign\n",
    "            curr_campaign = f['campaign'][i]\n",
    "        if feature['campaign'].nunique() > 1: # check to see if in transition between two campaigns\n",
    "            continue\n",
    "        elif curr_campaign != f['campaign'][i]: # set new campaign equal to current if this is the campaign we are looping through\n",
    "            curr_campaign = f['campaign'][i]\n",
    "        X.append(feature)\n",
    "        y.append(target)\n",
    "\n",
    "    return np.array(X), np.array(y)\n",
    "\n",
    "\n",
    "def series_split_sequences(f, t, n_steps_in, n_steps_out):\n",
    "    X, y = [], []\n",
    "    curr_campaign = ''\n",
    "    for i in range(len(f)):\n",
    "        # find the end of this pattern\n",
    "        end_ix = i + n_steps_in\n",
    "        out_end_ix = end_ix + n_steps_out\n",
    "        # check to see if we are bwyond the data set\n",
    "        if out_end_ix > len(f):\n",
    "            break\n",
    "        if curr_campaign == '': # set new current campaign if there is np campaign\n",
    "            curr_campaign = f['campaign'][i]\n",
    "        # gather input and output parts of the pattern\n",
    "        seq_x, seq_y = f[i:end_ix], t[end_ix:out_end_ix]\n",
    "        if f[i:out_end_ix]['campaign'].nunique() > 1: # check to see if in transition between two campaigns\n",
    "            continue\n",
    "        elif curr_campaign != seq_x['campaign'][i]: # set new campaign equal to current if this is the campaign we are looping through\n",
    "            curr_campaign = seq_x['campaign'][i]\n",
    "        X.append(seq_x.drop('campaign', axis=1))\n",
    "        y.append(seq_y)\n",
    "    return np.array(X), np.array(y)\n",
    "\n",
    "\n",
    "def vertical_handover(y):\n",
    "    new_y = []\n",
    "    for seq in y:\n",
    "        if 0 in seq and 1 in seq:\n",
    "            new_y.append(1)\n",
    "        else:\n",
    "            new_y.append(0)\n",
    "    return np.array(new_y)\n",
    "\n",
    "\n",
    "def count_correct_hos(y_pred, y_true):\n",
    "    correct_hos = []\n",
    "    for yt, yp in zip(y_true, y_pred):\n",
    "        seq = []\n",
    "        for i in range(len(yt)):\n",
    "            if yt[i] == 1 and yp[i] == 1:\n",
    "                seq.append(1)\n",
    "            else:\n",
    "                seq.append(0)\n",
    "        correct_hos.append(seq)\n",
    "    return np.array(correct_hos)\n",
    "\n",
    "\n",
    "def count_hos(y):\n",
    "    changed_y = []\n",
    "    for seq in y:\n",
    "        changed_seq = []\n",
    "        for i in range(len(seq)-1):\n",
    "            if seq[i] != seq[i + 1]:\n",
    "                changed_seq.append(1)\n",
    "            else:\n",
    "                changed_seq.append(0)\n",
    "        changed_y.append(changed_seq)\n",
    "\n",
    "    return np.array(changed_y)\n",
    "\n",
    "\n",
    "def accuracy(y_pred, y_true):\n",
    "    return np.mean(y_pred == y_true)\n",
    "\n",
    "\n",
    "def precision_recall(y_pred, y_true):\n",
    "    tp, fp, fn =  0, 0, 0\n",
    "\n",
    "    # Loop through true and predicted labels to count TP, FP, and FN\n",
    "    for yt, yp in zip(y_true, y_pred):\n",
    "        if yt == 1 and yp == 1:\n",
    "            tp += 1\n",
    "        elif yt == 0 and yp == 1:\n",
    "            fp += 1\n",
    "        elif yt == 1 and yp == 0:\n",
    "            fn += 1\n",
    "    print(tp, fp, fn)\n",
    "\n",
    "    # Precision calculation\n",
    "    if tp + fp == 0:\n",
    "        precision = 0\n",
    "    else:\n",
    "        precision = tp / (tp + fp)\n",
    "\n",
    "    # Recall calculation\n",
    "    if tp + fn == 0:\n",
    "        recall = 0\n",
    "    else:\n",
    "        recall = tp / (tp + fn)\n",
    "\n",
    "    return precision, recall"
   ]
  },
  {
   "cell_type": "code",
   "execution_count": 177,
   "metadata": {},
   "outputs": [],
   "source": [
    "X, y = read_dataset('datasets/Op1_merged.csv')\n",
    "n_steps_in, n_steps_out = 25, 10\n",
    "X, y = series_split_sequences(X, y, n_steps_in, n_steps_out)"
   ]
  },
  {
   "cell_type": "code",
   "execution_count": 225,
   "metadata": {},
   "outputs": [],
   "source": [
    "train_size = len(y) // 3 * 2\n",
    "\n",
    "X_train, y_train = X[:: train_size], y[:: train_size]\n",
    "X_test, y_test = X[train_size ::], y[train_size ::]\n",
    "y_test_changed = vertical_handover(y_test)\n",
    "\n",
    "n_features = X_train.shape[2]\n",
    "losses, accuracies, recalls, precisions = [], [], [], []"
   ]
  },
  {
   "cell_type": "code",
   "execution_count": 179,
   "metadata": {},
   "outputs": [
    {
     "name": "stdout",
     "output_type": "stream",
     "text": [
      "749/749 [==============================] - 19s 25ms/step\n",
      "749/749 [==============================] - 19s 25ms/step - loss: 39.5936\n",
      "690 23248 0\n",
      "Loss: 39.593597412109375\n",
      "Accuracy: 0.028986717901595523\n",
      "Percision: 0.028824463196591193\n",
      "Recall: 1.0\n"
     ]
    }
   ],
   "source": [
    "\n",
    "model = Sequential()\n",
    "model.add(LSTM(units=500, activation='relu',return_sequences=True, input_shape=(n_steps_in, n_features)))\n",
    "model.add(LSTM(units=500, activation='relu'))\n",
    "model.add(Dense(n_steps_out))\n",
    "model.compile(optimizer='adam', loss='mse')\n",
    "\n",
    "model.fit(X_train, y_train, epochs=300, verbose=0)\n",
    "\n",
    "y_pred = model.predict(X_test)\n",
    "y_pred = (y_pred > 0.5).astype(int)\n",
    "y_pred_changed = vertical_handover(y_pred)\n",
    "loss = model.evaluate(X_test, y_test)\n",
    "acc = accuracy(y_test_changed, y_pred_changed)\n",
    "prec, rec = precision_recall(y_pred_changed, y_test_changed)\n",
    "print(f'Loss: {loss}')\n",
    "print(f'Accuracy: {acc}')\n",
    "print(f'Percision: {prec}')\n",
    "print(f'Recall: {rec}')\n",
    "# losses.append(loss)\n",
    "# accuracies.append(acc)\n",
    "# precisions.append(prec)\n",
    "# recalls.append(rec)\n",
    "\n",
    "# print(f'Loss Mean: {np.mean(losses):.3f}')\n",
    "# print(f'Loss Standard Deviation: {np.std(losses):.3f}')\n",
    "# print(f'Accuracy Mean: {np.mean(accuracies):.3f}')\n",
    "# print(f'Accuracy Standard Deviation: {np.std(accuracies):.3f}')\n",
    "# print(f'Precision Mean: {np.mean(precisions):.3f}')\n",
    "# print(f'Precision Standard Deviation: {np.std(precisions):.3f}')\n",
    "# print(f'Recall Mean: {np.mean(recalls):.3f}')\n",
    "# print(f'Recall Standard Deviation: {np.std(recalls):.3f}')"
   ]
  },
  {
   "cell_type": "code",
   "execution_count": 180,
   "metadata": {},
   "outputs": [],
   "source": [
    "LAYERS = [8, 8, 8, 1]                # number of units in hidden and output layers\n",
    "M_TRAIN = X_train.shape[0]           # number of training examples (2D)\n",
    "M_TEST = X_test.shape[0]             # number of test examples (2D),full=X_test.shape[0]\n",
    "N = X_train.shape[2]                 # number of features\n",
    "BATCH = M_TRAIN                          # batch size\n",
    "EPOCH = 50                           # number of epochs\n",
    "LR = 5e-2                            # learning rate of the gradient descent\n",
    "LAMBD = 3e-2                         # lambda in L2 regularizaion\n",
    "DP = 0.0                             # dropout rate\n",
    "RDP = 0.0 "
   ]
  },
  {
   "cell_type": "code",
   "execution_count": 219,
   "metadata": {},
   "outputs": [
    {
     "data": {
      "image/png": "[encoded data removed]",
      "text/plain": [
       "<Figure size 640x480 with 1 Axes>"
      ]
     },
     "metadata": {},
     "output_type": "display_data"
    }
   ],
   "source": [
    "indices_of_hos = []\n",
    "y_pred_hos = count_hos(y_pred)\n",
    "\n",
    "for seq in y_pred_hos:\n",
    "    indices_of_hos.extend(np.where(seq == 1)[0])\n",
    "\n",
    "plt.hist(indices_of_hos, bins=np.arange(y_pred_hos.shape[1] + 1) - 0.5, edgecolor='black', color=colors[0])\n",
    "plt.xlabel('Index of handover')\n",
    "plt.ylabel('Number of handover predictions')\n",
    "plt.title('On which indices do we predict HOs')\n",
    "plt.xticks(range(y_pred_hos.shape[1]))\n",
    "\n",
    "plt.show()"
   ]
  },
  {
   "cell_type": "code",
   "execution_count": 224,
   "metadata": {},
   "outputs": [
    {
     "data": {
      "image/png": "[encoded data removed]",
      "text/plain": [
       "<Figure size 640x480 with 1 Axes>"
      ]
     },
     "metadata": {},
     "output_type": "display_data"
    }
   ],
   "source": [
    "correct_hos = count_correct_hos(y_pred_hos, count_hos(y_test))\n",
    "\n",
    "indices_of_correct_hos = []\n",
    "\n",
    "for seq in correct_hos:\n",
    "    indices_of_correct_hos.extend(np.where(seq == 1)[0])\n",
    "\n",
    "plt.hist(indices_of_correct_hos, bins=np.arange(correct_hos.shape[1] + 1) - 0.5, edgecolor='black', color=colors[0])\n",
    "plt.xlabel('Index of handover')\n",
    "plt.ylabel('Number of correct handover predictions')\n",
    "plt.title('On which indices do we correctly predict HOs')\n",
    "plt.xticks(range(correct_hos.shape[1]))\n",
    "\n",
    "plt.show()"
   ]
  }
 ],
 "metadata": {
  "kernelspec": {
   "display_name": "Python 3",
   "language": "python",
   "name": "python3"
  },
  "language_info": {
   "codemirror_mode": {
    "name": "ipython",
    "version": 3
   },
   "file_extension": ".py",
   "mimetype": "text/x-python",
   "name": "python",
   "nbconvert_exporter": "python",
   "pygments_lexer": "ipython3",
   "version": "3.9.6"
  }
 },
 "nbformat": 4,
 "nbformat_minor": 2
}
