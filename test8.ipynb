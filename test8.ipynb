{
 "cells": [
  {
   "cell_type": "markdown",
   "metadata": {},
   "source": [
    "# PyTorch LSTM forhåpentlig vis bedre"
   ]
  },
  {
   "cell_type": "markdown",
   "metadata": {},
   "source": [
    "### Imports"
   ]
  },
  {
   "cell_type": "code",
   "execution_count": 62,
   "metadata": {},
   "outputs": [],
   "source": [
    "import numpy as np\n",
    "import pandas as pd\n",
    "import seaborn as sns\n",
    "import matplotlib.pyplot as plt\n",
    "from matplotlib.colors import ListedColormap\n",
    "from keras.models import Sequential\n",
    "from keras.layers import Dense, LSTM, BatchNormalization\n",
    "from keras.callbacks import ReduceLROnPlateau, EarlyStopping\n",
    "from keras.regularizers import l2\n",
    "from sklearn.utils.class_weight import compute_class_weight\n",
    "from time import time"
   ]
  },
  {
   "cell_type": "code",
   "execution_count": 63,
   "metadata": {},
   "outputs": [],
   "source": [
    "uio_orange = '#FEA11B'\n",
    "autumn_leaves = ['#614419', '#B37E2E', '#DB9A39', '#FFB343']\n",
    "autumn_leaves = autumn_leaves[-1::]\n",
    "autumn_leaves_palett = ListedColormap(sns.color_palette(autumn_leaves))\n",
    "breakfast_tea = ['#331C08', '#664C36', '#CCBEB1', '#FFD3AC']\n",
    "breakfast_tea_palett = ListedColormap(sns.color_palette(breakfast_tea))\n",
    "night_sands = ['#574A24', '#80775C', '#FAE8B4', '#CBBD93']\n",
    "night_sands_palett = ListedColormap(sns.color_palette(night_sands))\n",
    "\n",
    "colors = autumn_leaves\n",
    "color_palett = autumn_leaves_palett"
   ]
  },
  {
   "cell_type": "code",
   "execution_count": 75,
   "metadata": {},
   "outputs": [],
   "source": [
    "def read_dataset(filename):\n",
    "    df = pd.read_csv(filename)\n",
    "    df = df.loc[:, ~df.columns.str.match('Unnamed')]\n",
    "    df = df.loc[:, ~df.columns.str.match('Timestamp')]\n",
    "    df = df.replace('DC', 1)\n",
    "    df = df.replace('LTE', 0)\n",
    "    df = df[df['campaign'].str.contains('Driving')]\n",
    "\n",
    "    # remove outliars\n",
    "    # df = df[(df['RSRP'] >= -144) & (df['RSRP'] <= -44) &\n",
    "    #         (df['SINR'] >= -19.5) & (df['SINR'] <= -3) &\n",
    "    #         (df['RSRQ'] >= -20) & (df['RSRQ'] <= 20)]\n",
    "\n",
    "    # X, y = df.drop('Mode', axis=1), df['Mode']\n",
    "    X, y = df[['RSRP', 'SSS_RSRP', 'campaign', 'Mode']], df['Mode']\n",
    "    return X, y\n",
    "\n",
    "\n",
    "# function from https://machinelearningmastery.com/lstm-for-time-series-prediction-in-pytorch/ \n",
    "def create_dataset(f, t, lookback):\n",
    "    curr_campaign = ''\n",
    "    X, y = [], []\n",
    "    for i in range(len(t) - lookback):\n",
    "        feature = f[i : i + lookback]\n",
    "        target = t[i + 1 : i + lookback + 1]\n",
    "        if curr_campaign == '': # set new current campaign if there is np campaign\n",
    "            curr_campaign = f['campaign'][i]\n",
    "        if feature['campaign'].nunique() > 1: # check to see if in transition between two campaigns\n",
    "            continue\n",
    "        elif curr_campaign != f['campaign'][i]: # set new campaign equal to current if this is the campaign we are looping through\n",
    "            curr_campaign = f['campaign'][i]\n",
    "        X.append(feature)\n",
    "        y.append(target)\n",
    "\n",
    "    return np.array(X), np.array(y)\n",
    "\n",
    "\n",
    "def series_split_sequences(f, t, n_steps_in, n_steps_out):\n",
    "    X, y = [], []\n",
    "    curr_campaign = ''\n",
    "    for i in range(len(f)):\n",
    "        # find the end of the pattern\n",
    "        end_ix = i + n_steps_in\n",
    "        out_end_ix = end_ix + n_steps_out\n",
    "\n",
    "        if out_end_ix > len(f): # check to see if we are bwyond the data set\n",
    "            break\n",
    "\n",
    "        if curr_campaign == '': # set new current campaign if there is np campaign\n",
    "            curr_campaign = f['campaign'].iloc[i]\n",
    "        seq_x, seq_y = f[i:end_ix], t[end_ix:out_end_ix]\n",
    "        if f.iloc[i:out_end_ix]['campaign'].nunique() > 1: # check to see if in transition between two campaigns\n",
    "            continue\n",
    "        elif curr_campaign != f['campaign'].iloc[i]: # set new campaign equal to current if this is the campaign we are looping through\n",
    "            curr_campaign = f['campaign'].iloc[i]\n",
    "        X.append(seq_x.drop('campaign', axis=1))\n",
    "        y.append(seq_y)\n",
    "    return np.array(X), np.array(y)\n",
    "\n",
    "\n",
    "def vertical_handover(y):\n",
    "    new_y = []\n",
    "    for seq in y:\n",
    "        if 0 in seq and 1 in seq:\n",
    "            new_y.append(1)\n",
    "        else:\n",
    "            new_y.append(0)\n",
    "    return np.array(new_y)\n",
    "\n",
    "\n",
    "def count_correct_hos(y_pred, y_true):\n",
    "    correct_hos = []\n",
    "    for yt, yp in zip(y_true, y_pred):\n",
    "        seq = []\n",
    "        for i in range(len(yt)):\n",
    "            if yt[i] == 1 and yp[i] == 1:\n",
    "                seq.append(1)\n",
    "            else:\n",
    "                seq.append(0)\n",
    "        correct_hos.append(seq)\n",
    "    return np.array(correct_hos)\n",
    "\n",
    "\n",
    "def count_hos(y):\n",
    "    changed_y = []\n",
    "    for seq in y:\n",
    "        changed_seq = []\n",
    "        for i in range(len(seq)-1):\n",
    "            if seq[i] != seq[i + 1]:\n",
    "                changed_seq.append(1)\n",
    "            else:\n",
    "                changed_seq.append(0)\n",
    "        changed_y.append(changed_seq)\n",
    "\n",
    "    return np.array(changed_y)\n",
    "\n",
    "\n",
    "def accuracy_single_datapoint (y_pred, y_true):\n",
    "    correct_preds = 0\n",
    "    n = 0\n",
    "    for yt, yp in zip(y_true, y_pred):\n",
    "        correct_preds += np.sum(yt == yp)\n",
    "        n += len(yp)\n",
    "    return correct_preds / n\n",
    "\n",
    "def accuracy(y_pred, y_true):\n",
    "    return np.mean(y_pred == y_true)\n",
    "\n",
    "\n",
    "def precision_recall(y_pred, y_true):\n",
    "    tp, fp, fn =  0, 0, 0\n",
    "\n",
    "    # Loop through true and predicted labels to count TP, FP, and FN\n",
    "    for yt, yp in zip(y_true, y_pred):\n",
    "        if yt == 1 and yp == 1:\n",
    "            tp += 1\n",
    "        elif yt == 0 and yp == 1:\n",
    "            fp += 1\n",
    "        elif yt == 1 and yp == 0:\n",
    "            fn += 1\n",
    "    print(tp, fp, fn)\n",
    "\n",
    "    # Precision calculation\n",
    "    if tp + fp == 0:\n",
    "        precision = 0\n",
    "    else:\n",
    "        precision = tp / (tp + fp)\n",
    "\n",
    "    # Recall calculation\n",
    "    if tp + fn == 0:\n",
    "        recall = 0\n",
    "    else:\n",
    "        recall = tp / (tp + fn)\n",
    "\n",
    "    return precision, recall"
   ]
  },
  {
   "cell_type": "code",
   "execution_count": 77,
   "metadata": {},
   "outputs": [],
   "source": [
    "X, y = read_dataset('datasets/Op1_merged.csv')\n",
    "n_steps_in, n_steps_out = 15, 1\n",
    "\n",
    "# mode_df = y.to_numpy()\n",
    "# ho_to_5g = [0]\n",
    "# ho_to_4g = [0]\n",
    "# for i in range(len(mode_df) - 1):\n",
    "#     if mode_df[i] == mode_df[i+1]:\n",
    "#         ho_to_5g.append(0)\n",
    "#         ho_to_4g.append(0)\n",
    "#     elif mode_df[i] == 'LTE' and mode_df[i+1] == 'DC':\n",
    "#         ho_to_5g.append(12)\n",
    "#         ho_to_4g.append(0)\n",
    "#     elif mode_df[i] == 'DC' and mode_df[i+1] == 'LTE':\n",
    "#         ho_to_5g.append(0)\n",
    "#         ho_to_4g.append(10)\n",
    "\n",
    "# print(ho_to_4g, ho_to_5g)\n",
    "\n",
    "X, y = series_split_sequences(X, y, n_steps_in, n_steps_out)"
   ]
  },
  {
   "cell_type": "code",
   "execution_count": 78,
   "metadata": {},
   "outputs": [],
   "source": [
    "train_size = len(y) // 3 * 2\n",
    "test_size = (len(y) - train_size) // 2 + train_size\n",
    "\n",
    "X_train, y_train = X[0 : train_size], y[0 : train_size]\n",
    "X_val, y_val = X[train_size : test_size], y[train_size : test_size]\n",
    "X_test, y_test = X[test_size ::], y[test_size ::]\n",
    "y_test_changed = vertical_handover(y_test)\n",
    "\n",
    "n_features = X_train.shape[2]\n",
    "losses, accuracies, recalls, precisions = [], [], [], []"
   ]
  },
  {
   "cell_type": "code",
   "execution_count": 67,
   "metadata": {},
   "outputs": [],
   "source": [
    "\n",
    "# model = Sequential()\n",
    "# model.add(LSTM(units=500, activation='relu',return_sequences=False, input_shape=(n_steps_in, n_features)))\n",
    "# model.add(LSTM(units=500, activation='relu'))\n",
    "# model.add(Dense(n_steps_out))\n",
    "# model.compile(optimizer='adam', loss='mse')\n",
    "\n",
    "# model.fit(X_train, y_train, epochs=300, verbose=0)\n",
    "\n",
    "# y_pred = model.predict(X_test)\n",
    "# y_pred = (y_pred > 0.5).astype(int)\n",
    "# y_pred_changed = vertical_handover(y_pred)\n",
    "# loss = model.evaluate(X_test, y_test)\n",
    "# acc = accuracy(y_test_changed, y_pred_changed)\n",
    "# prec, rec = precision_recall(y_pred_changed, y_test_changed)\n",
    "# print(f'Loss: {loss}')\n",
    "# print(f'Accuracy: {acc}')\n",
    "# print(f'Percision: {prec}')\n",
    "# print(f'Recall: {rec}')\n",
    "# losses.append(loss)\n",
    "# accuracies.append(acc)\n",
    "# precisions.append(prec)\n",
    "# recalls.append(rec)\n",
    "\n",
    "# print(f'Loss Mean: {np.mean(losses):.3f}')\n",
    "# print(f'Loss Standard Deviation: {np.std(losses):.3f}')\n",
    "# print(f'Accuracy Mean: {np.mean(accuracies):.3f}')\n",
    "# print(f'Accuracy Standard Deviation: {np.std(accuracies):.3f}')\n",
    "# print(f'Precision Mean: {np.mean(precisions):.3f}')\n",
    "# print(f'Precision Standard Deviation: {np.std(precisions):.3f}')\n",
    "# print(f'Recall Mean: {np.mean(recalls):.3f}')\n",
    "# print(f'Recall Standard Deviation: {np.std(recalls):.3f}')"
   ]
  },
  {
   "cell_type": "code",
   "execution_count": 81,
   "metadata": {},
   "outputs": [
    {
     "name": "stderr",
     "output_type": "stream",
     "text": [
      "/Users/ihneskarbovik/Library/Python/3.9/lib/python/site-packages/keras/src/layers/rnn/rnn.py:204: UserWarning: Do not pass an `input_shape`/`input_dim` argument to a layer. When using Sequential models, prefer using an `Input(shape)` object as the first layer in the model instead.\n",
      "  super().__init__(**kwargs)\n"
     ]
    },
    {
     "data": {
      "text/html": [
       "<pre style=\"white-space:pre;overflow-x:auto;line-height:normal;font-family:Menlo,'DejaVu Sans Mono',consolas,'Courier New',monospace\"><span style=\"font-weight: bold\">Model: \"sequential_14\"</span>\n",
       "</pre>\n"
      ],
      "text/plain": [
       "\u001b[1mModel: \"sequential_14\"\u001b[0m\n"
      ]
     },
     "metadata": {},
     "output_type": "display_data"
    },
    {
     "data": {
      "text/html": [
       "<pre style=\"white-space:pre;overflow-x:auto;line-height:normal;font-family:Menlo,'DejaVu Sans Mono',consolas,'Courier New',monospace\">┏━━━━━━━━━━━━━━━━━━━━━━━━━━━━━━━━━┳━━━━━━━━━━━━━━━━━━━━━━━━┳━━━━━━━━━━━━━━━┓\n",
       "┃<span style=\"font-weight: bold\"> Layer (type)                    </span>┃<span style=\"font-weight: bold\"> Output Shape           </span>┃<span style=\"font-weight: bold\">       Param # </span>┃\n",
       "┡━━━━━━━━━━━━━━━━━━━━━━━━━━━━━━━━━╇━━━━━━━━━━━━━━━━━━━━━━━━╇━━━━━━━━━━━━━━━┩\n",
       "│ lstm_28 (<span style=\"color: #0087ff; text-decoration-color: #0087ff\">LSTM</span>)                  │ (<span style=\"color: #00d7ff; text-decoration-color: #00d7ff\">None</span>, <span style=\"color: #00af00; text-decoration-color: #00af00\">15</span>, <span style=\"color: #00af00; text-decoration-color: #00af00\">200</span>)        │       <span style=\"color: #00af00; text-decoration-color: #00af00\">163,200</span> │\n",
       "├─────────────────────────────────┼────────────────────────┼───────────────┤\n",
       "│ lstm_29 (<span style=\"color: #0087ff; text-decoration-color: #0087ff\">LSTM</span>)                  │ (<span style=\"color: #00d7ff; text-decoration-color: #00d7ff\">None</span>, <span style=\"color: #00af00; text-decoration-color: #00af00\">200</span>)            │       <span style=\"color: #00af00; text-decoration-color: #00af00\">320,800</span> │\n",
       "├─────────────────────────────────┼────────────────────────┼───────────────┤\n",
       "│ dense_14 (<span style=\"color: #0087ff; text-decoration-color: #0087ff\">Dense</span>)                │ (<span style=\"color: #00d7ff; text-decoration-color: #00d7ff\">None</span>, <span style=\"color: #00af00; text-decoration-color: #00af00\">1</span>)              │           <span style=\"color: #00af00; text-decoration-color: #00af00\">201</span> │\n",
       "└─────────────────────────────────┴────────────────────────┴───────────────┘\n",
       "</pre>\n"
      ],
      "text/plain": [
       "┏━━━━━━━━━━━━━━━━━━━━━━━━━━━━━━━━━┳━━━━━━━━━━━━━━━━━━━━━━━━┳━━━━━━━━━━━━━━━┓\n",
       "┃\u001b[1m \u001b[0m\u001b[1mLayer (type)                   \u001b[0m\u001b[1m \u001b[0m┃\u001b[1m \u001b[0m\u001b[1mOutput Shape          \u001b[0m\u001b[1m \u001b[0m┃\u001b[1m \u001b[0m\u001b[1m      Param #\u001b[0m\u001b[1m \u001b[0m┃\n",
       "┡━━━━━━━━━━━━━━━━━━━━━━━━━━━━━━━━━╇━━━━━━━━━━━━━━━━━━━━━━━━╇━━━━━━━━━━━━━━━┩\n",
       "│ lstm_28 (\u001b[38;5;33mLSTM\u001b[0m)                  │ (\u001b[38;5;45mNone\u001b[0m, \u001b[38;5;34m15\u001b[0m, \u001b[38;5;34m200\u001b[0m)        │       \u001b[38;5;34m163,200\u001b[0m │\n",
       "├─────────────────────────────────┼────────────────────────┼───────────────┤\n",
       "│ lstm_29 (\u001b[38;5;33mLSTM\u001b[0m)                  │ (\u001b[38;5;45mNone\u001b[0m, \u001b[38;5;34m200\u001b[0m)            │       \u001b[38;5;34m320,800\u001b[0m │\n",
       "├─────────────────────────────────┼────────────────────────┼───────────────┤\n",
       "│ dense_14 (\u001b[38;5;33mDense\u001b[0m)                │ (\u001b[38;5;45mNone\u001b[0m, \u001b[38;5;34m1\u001b[0m)              │           \u001b[38;5;34m201\u001b[0m │\n",
       "└─────────────────────────────────┴────────────────────────┴───────────────┘\n"
      ]
     },
     "metadata": {},
     "output_type": "display_data"
    },
    {
     "data": {
      "text/html": [
       "<pre style=\"white-space:pre;overflow-x:auto;line-height:normal;font-family:Menlo,'DejaVu Sans Mono',consolas,'Courier New',monospace\"><span style=\"font-weight: bold\"> Total params: </span><span style=\"color: #00af00; text-decoration-color: #00af00\">484,201</span> (1.85 MB)\n",
       "</pre>\n"
      ],
      "text/plain": [
       "\u001b[1m Total params: \u001b[0m\u001b[38;5;34m484,201\u001b[0m (1.85 MB)\n"
      ]
     },
     "metadata": {},
     "output_type": "display_data"
    },
    {
     "data": {
      "text/html": [
       "<pre style=\"white-space:pre;overflow-x:auto;line-height:normal;font-family:Menlo,'DejaVu Sans Mono',consolas,'Courier New',monospace\"><span style=\"font-weight: bold\"> Trainable params: </span><span style=\"color: #00af00; text-decoration-color: #00af00\">484,201</span> (1.85 MB)\n",
       "</pre>\n"
      ],
      "text/plain": [
       "\u001b[1m Trainable params: \u001b[0m\u001b[38;5;34m484,201\u001b[0m (1.85 MB)\n"
      ]
     },
     "metadata": {},
     "output_type": "display_data"
    },
    {
     "data": {
      "text/html": [
       "<pre style=\"white-space:pre;overflow-x:auto;line-height:normal;font-family:Menlo,'DejaVu Sans Mono',consolas,'Courier New',monospace\"><span style=\"font-weight: bold\"> Non-trainable params: </span><span style=\"color: #00af00; text-decoration-color: #00af00\">0</span> (0.00 B)\n",
       "</pre>\n"
      ],
      "text/plain": [
       "\u001b[1m Non-trainable params: \u001b[0m\u001b[38;5;34m0\u001b[0m (0.00 B)\n"
      ]
     },
     "metadata": {},
     "output_type": "display_data"
    },
    {
     "name": "stdout",
     "output_type": "stream",
     "text": [
      "None\n"
     ]
    }
   ],
   "source": [
    "model = Sequential()\n",
    "model.add(LSTM(input_shape=(n_steps_in, n_features), units=200,\n",
    "               activation='relu', recurrent_activation='sigmoid',\n",
    "               return_sequences=True, return_state=False\n",
    "              ))\n",
    "model.add(LSTM(units=200,\n",
    "               activation='relu', recurrent_activation='sigmoid',\n",
    "               return_sequences=False, return_state=False\n",
    "              ))\n",
    "model.add(Dense(n_steps_out, activation='sigmoid'))\n",
    "model.compile(loss='mean_squared_error',\n",
    "              metrics=['accuracy'],\n",
    "              optimizer='adam')\n",
    "print(model.summary())\n",
    "\n",
    "lr_decay = ReduceLROnPlateau(monitor='loss', \n",
    "                             patience=1, verbose=0, \n",
    "                             factor=0.5, min_lr=1e-8)\n",
    "early_stop = EarlyStopping(monitor='val_loss',\n",
    "                           patience=80, mode='min'\n",
    "                           #restore_best_weights=True\n",
    "                           )"
   ]
  },
  {
   "cell_type": "code",
   "execution_count": 82,
   "metadata": {},
   "outputs": [
    {
     "name": "stdout",
     "output_type": "stream",
     "text": [
      "-----------------------------------------------------------------\n",
      "Training was completed in 1597.30 secs\n",
      "-----------------------------------------------------------------\n"
     ]
    }
   ],
   "source": [
    "# y_train_flat = np.array([item for sublist in y_train for item in sublist])\n",
    "# class_weights = compute_class_weight(class_weight='balanced', classes=np.unique(y_train_flat), y=y_train_flat)\n",
    "# class_weight_dict = {0: class_weights[0], 1: class_weights[1]}\n",
    "\n",
    "start = time()\n",
    "History = model.fit(X_train, y_train,\n",
    "                    epochs=100,\n",
    "                    validation_data=(X_val, y_val),\n",
    "                    shuffle=True, verbose=0)\n",
    "print('-'*65)\n",
    "print(f'Training was completed in {time() - start:.2f} secs')\n",
    "print('-'*65)"
   ]
  },
  {
   "cell_type": "code",
   "execution_count": 83,
   "metadata": {},
   "outputs": [
    {
     "data": {
      "image/png": "[encoded data removed]",
      "text/plain": [
       "<Figure size 1800x600 with 2 Axes>"
      ]
     },
     "metadata": {},
     "output_type": "display_data"
    }
   ],
   "source": [
    "fig, axs = plt.subplots(nrows=1, ncols=2, figsize=(18,6))\n",
    "axs[0].plot(History.history['loss'], color='b', label='Training loss')\n",
    "axs[0].plot(History.history['val_loss'], color='r', label='Validation loss')\n",
    "axs[0].set_title(\"Loss curves\")\n",
    "axs[0].legend(loc='best', shadow=True)\n",
    "axs[1].plot(History.history['accuracy'], color='b', label='Training accuracy')\n",
    "axs[1].plot(History.history['val_accuracy'], color='r', label='Validation accuracy')\n",
    "axs[1].set_title(\"Accuracy curves\")\n",
    "axs[1].legend(loc='best', shadow=True)\n",
    "plt.show()"
   ]
  },
  {
   "cell_type": "code",
   "execution_count": 84,
   "metadata": {},
   "outputs": [
    {
     "name": "stdout",
     "output_type": "stream",
     "text": [
      "\u001b[1m195/195\u001b[0m \u001b[32m━━━━━━━━━━━━━━━━━━━━\u001b[0m\u001b[37m\u001b[0m \u001b[1m1s\u001b[0m 5ms/step\n",
      "0.7532509231016215\n",
      "0 0 0\n",
      "1.0\n",
      "0 0\n",
      "(array([0]), array([6229]))\n"
     ]
    },
    {
     "data": {
      "image/png": "[encoded data removed]",
      "text/plain": [
       "<Figure size 640x480 with 1 Axes>"
      ]
     },
     "metadata": {},
     "output_type": "display_data"
    }
   ],
   "source": [
    "y_pred = model.predict(X_test)\n",
    "y_pred = (y_pred >= 0.5).astype(int)\n",
    "print(accuracy_single_datapoint(y_pred, y_test))\n",
    "y_pred_changed = vertical_handover(y_pred)\n",
    "precision, recall = precision_recall(y_pred_changed, y_test_changed)\n",
    "print(accuracy(y_pred_changed, y_test_changed))\n",
    "print(precision, recall)\n",
    "indices_of_hos = []\n",
    "y_pred_hos = count_hos(y_pred)\n",
    "\n",
    "print(np.unique(y_pred, return_counts=True))\n",
    "\n",
    "for seq in y_pred_hos:\n",
    "    indices_of_hos.extend(np.where(seq == 1)[0])\n",
    "\n",
    "plt.hist(indices_of_hos, bins=np.arange(y_pred_hos.shape[1] + 1) - 0.5, edgecolor='black', color=colors[0])\n",
    "plt.xlabel('Index of handover')\n",
    "plt.ylabel('Number of handover predictions')\n",
    "plt.title('On which indices do we predict HOs')\n",
    "plt.xticks(range(y_pred_hos.shape[1]))\n",
    "\n",
    "plt.show()"
   ]
  },
  {
   "cell_type": "code",
   "execution_count": null,
   "metadata": {},
   "outputs": [
    {
     "data": {
      "image/png": "[encoded data removed]",
      "text/plain": [
       "<Figure size 640x480 with 1 Axes>"
      ]
     },
     "metadata": {},
     "output_type": "display_data"
    }
   ],
   "source": [
    "correct_hos = count_correct_hos(y_pred_hos, count_hos(y_test))\n",
    "\n",
    "indices_of_correct_hos = []\n",
    "\n",
    "for seq in correct_hos:\n",
    "    indices_of_correct_hos.extend(np.where(seq == 1)[0])\n",
    "\n",
    "plt.hist(indices_of_correct_hos, bins=np.arange(correct_hos.shape[1] + 1) - 0.5, edgecolor='black', color=colors[0])\n",
    "plt.xlabel('Index of handover')\n",
    "plt.ylabel('Number of correct handover predictions')\n",
    "plt.title('On which indices do we correctly predict HOs')\n",
    "plt.xticks(range(correct_hos.shape[1]))\n",
    "\n",
    "plt.show()"
   ]
  }
 ],
 "metadata": {
  "kernelspec": {
   "display_name": "Python 3",
   "language": "python",
   "name": "python3"
  },
  "language_info": {
   "codemirror_mode": {
    "name": "ipython",
    "version": 3
   },
   "file_extension": ".py",
   "mimetype": "text/x-python",
   "name": "python",
   "nbconvert_exporter": "python",
   "pygments_lexer": "ipython3",
   "version": "3.9.6"
  }
 },
 "nbformat": 4,
 "nbformat_minor": 2
}
